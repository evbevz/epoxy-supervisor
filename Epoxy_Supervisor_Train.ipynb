{
  "nbformat": 4,
  "nbformat_minor": 0,
  "metadata": {
    "colab": {
      "provenance": [],
      "collapsed_sections": [
        "3gITaj_5wy3b",
        "6vJ380Jx0Uoj",
        "qV7lI26X0aaR"
      ],
      "gpuType": "T4",
      "authorship_tag": "ABX9TyP/pZgvne472HKT8UX6jOEZ",
      "include_colab_link": true
    },
    "kernelspec": {
      "name": "python3",
      "display_name": "Python 3"
    },
    "language_info": {
      "name": "python"
    },
    "accelerator": "GPU"
  },
  "cells": [
    {
      "cell_type": "markdown",
      "metadata": {
        "id": "view-in-github",
        "colab_type": "text"
      },
      "source": [
        "<a href=\"https://colab.research.google.com/github/evbevz/epoxy-supervisor/blob/main/Epoxy_Supervisor_Train.ipynb\" target=\"_parent\"><img src=\"https://colab.research.google.com/assets/colab-badge.svg\" alt=\"Open In Colab\"/></a>"
      ]
    },
    {
      "cell_type": "markdown",
      "source": [
        "# Setup"
      ],
      "metadata": {
        "id": "llN9YYhKrsm-"
      }
    },
    {
      "cell_type": "code",
      "source": [
        "%pip install ultralytics\n",
        "%pip install -U albumentations\n",
        "import ultralytics\n",
        "ultralytics.checks()"
      ],
      "metadata": {
        "colab": {
          "base_uri": "https://localhost:8080/"
        },
        "id": "dM_eu5dTr2Xy",
        "outputId": "6494ddc5-9f23-4508-c2cd-29bca1ff7195"
      },
      "execution_count": 1,
      "outputs": [
        {
          "output_type": "stream",
          "name": "stdout",
          "text": [
            "Ultralytics 8.3.51 🚀 Python-3.10.12 torch-2.5.1+cu121 CUDA:0 (Tesla T4, 15102MiB)\n",
            "Setup complete ✅ (2 CPUs, 12.7 GB RAM, 32.7/112.6 GB disk)\n"
          ]
        }
      ]
    },
    {
      "cell_type": "markdown",
      "source": [
        "# Git Clone?"
      ],
      "metadata": {
        "id": "3gITaj_5wy3b"
      }
    },
    {
      "cell_type": "code",
      "source": [
        "!git clone https://github.com/evbevz/epoxy-supervisor.git"
      ],
      "metadata": {
        "colab": {
          "base_uri": "https://localhost:8080/"
        },
        "id": "LnYbVPSjw4RB",
        "outputId": "01e754a7-12dd-47fb-cfb9-176b1349ef9a"
      },
      "execution_count": 2,
      "outputs": [
        {
          "output_type": "stream",
          "name": "stdout",
          "text": [
            "Cloning into 'epoxy-supervisor'...\n",
            "remote: Enumerating objects: 37, done.\u001b[K\n",
            "remote: Counting objects: 100% (37/37), done.\u001b[K\n",
            "remote: Compressing objects: 100% (33/33), done.\u001b[K\n",
            "remote: Total 37 (delta 7), reused 3 (delta 0), pack-reused 0 (from 0)\u001b[K\n",
            "Receiving objects: 100% (37/37), 12.47 KiB | 12.47 MiB/s, done.\n",
            "Resolving deltas: 100% (7/7), done.\n"
          ]
        }
      ]
    },
    {
      "cell_type": "markdown",
      "source": [
        "# Predict"
      ],
      "metadata": {
        "id": "6vJ380Jx0Uoj"
      }
    },
    {
      "cell_type": "code",
      "source": [
        "# Run inference on an image with YOLO11n\n",
        "!yolo predict model=yolo11n-pose.pt source='https://ultralytics.com/images/zidane.jpg'"
      ],
      "metadata": {
        "colab": {
          "base_uri": "https://localhost:8080/"
        },
        "id": "r__Hvp5Qu3Rn",
        "outputId": "6db2607c-b780-4414-a169-a6acd98056c8"
      },
      "execution_count": 3,
      "outputs": [
        {
          "output_type": "stream",
          "name": "stdout",
          "text": [
            "Downloading https://github.com/ultralytics/assets/releases/download/v8.3.0/yolo11n-pose.pt to 'yolo11n-pose.pt'...\n",
            "100% 5.97M/5.97M [00:00<00:00, 366MB/s]\n",
            "Ultralytics 8.3.51 🚀 Python-3.10.12 torch-2.5.1+cu121 CUDA:0 (Tesla T4, 15102MiB)\n",
            "YOLO11n-pose summary (fused): 257 layers, 2,866,468 parameters, 0 gradients, 7.4 GFLOPs\n",
            "\n",
            "Downloading https://ultralytics.com/images/zidane.jpg to 'zidane.jpg'...\n",
            "100% 49.2k/49.2k [00:00<00:00, 76.9MB/s]\n",
            "image 1/1 /content/zidane.jpg: 384x640 2 persons, 83.0ms\n",
            "Speed: 10.3ms preprocess, 83.0ms inference, 870.6ms postprocess per image at shape (1, 3, 384, 640)\n",
            "Results saved to \u001b[1mruns/pose/predict\u001b[0m\n",
            "💡 Learn more at https://docs.ultralytics.com/modes/predict\n"
          ]
        }
      ]
    },
    {
      "cell_type": "markdown",
      "source": [
        "# Validate default model"
      ],
      "metadata": {
        "id": "qV7lI26X0aaR"
      }
    },
    {
      "cell_type": "code",
      "source": [
        "# Download COCO val\n",
        "import torch\n",
        "torch.hub.download_url_to_file('https://ultralytics.com/assets/coco2017val.zip', 'tmp.zip')  # download (780M - 5000 images)\n",
        "!unzip -q tmp.zip -d datasets && rm tmp.zip  # unzip"
      ],
      "metadata": {
        "colab": {
          "base_uri": "https://localhost:8080/"
        },
        "id": "YLeF-kxv0dIL",
        "outputId": "9117c290-8ec1-4bf6-ae4e-1ee2a5f31b5f"
      },
      "execution_count": 4,
      "outputs": [
        {
          "output_type": "stream",
          "name": "stderr",
          "text": [
            "100%|██████████| 780M/780M [00:07<00:00, 105MB/s]\n"
          ]
        }
      ]
    },
    {
      "cell_type": "code",
      "source": [
        "# Validate YOLO11n on COCO8 val\n",
        "!yolo val model=yolo11n-pose.pt data=coco8-pose.yaml"
      ],
      "metadata": {
        "colab": {
          "base_uri": "https://localhost:8080/"
        },
        "id": "3fWNQ09e0qn_",
        "outputId": "eaf3006b-4106-4621-b882-de48b10b9b0e"
      },
      "execution_count": 5,
      "outputs": [
        {
          "output_type": "stream",
          "name": "stdout",
          "text": [
            "Ultralytics 8.3.51 🚀 Python-3.10.12 torch-2.5.1+cu121 CUDA:0 (Tesla T4, 15102MiB)\n",
            "YOLO11n-pose summary (fused): 257 layers, 2,866,468 parameters, 0 gradients, 7.4 GFLOPs\n",
            "\n",
            "Dataset 'coco8-pose.yaml' images not found ⚠️, missing path '/content/datasets/coco8-pose/images/val'\n",
            "Downloading https://ultralytics.com/assets/coco8-pose.zip to '/content/datasets/coco8-pose.zip'...\n",
            "100% 334k/334k [00:00<00:00, 77.1MB/s]\n",
            "Unzipping /content/datasets/coco8-pose.zip to /content/datasets/coco8-pose...: 100% 27/27 [00:00<00:00, 5603.20file/s]\n",
            "Dataset download success ✅ (1.1s), saved to \u001b[1m/content/datasets\u001b[0m\n",
            "\n",
            "Downloading https://ultralytics.com/assets/Arial.ttf to '/root/.config/Ultralytics/Arial.ttf'...\n",
            "100% 755k/755k [00:00<00:00, 114MB/s]\n",
            "\u001b[34m\u001b[1mval: \u001b[0mScanning /content/datasets/coco8-pose/labels/val... 4 images, 0 backgrounds, 0 corrupt: 100% 4/4 [00:00<00:00, 114.54it/s]\n",
            "\u001b[34m\u001b[1mval: \u001b[0mNew cache created: /content/datasets/coco8-pose/labels/val.cache\n",
            "                 Class     Images  Instances      Box(P          R      mAP50  mAP50-95)     Pose(P          R      mAP50  mAP50-95): 100% 1/1 [00:02<00:00,  2.98s/it]\n",
            "                   all          4         14      0.811      0.929      0.917      0.728          1      0.697      0.772      0.355\n",
            "Speed: 0.3ms preprocess, 44.2ms inference, 0.0ms loss, 245.2ms postprocess per image\n",
            "Results saved to \u001b[1mruns/pose/val\u001b[0m\n",
            "💡 Learn more at https://docs.ultralytics.com/modes/val\n"
          ]
        }
      ]
    },
    {
      "cell_type": "markdown",
      "source": [
        "# Load Dataset"
      ],
      "metadata": {
        "id": "_pTd-mo0kEKs"
      }
    },
    {
      "cell_type": "code",
      "source": [
        "# Download Epoxy Level Dataset\n",
        "import torch\n",
        "torch.hub.download_url_to_file('http://test.bevz.space/robot/dataset/epoxy-level-1774.zip', 'tmp.zip')  # download (3.8G - 1774 images)\n",
        "!unzip -q tmp.zip -d datasets && rm tmp.zip  # unzip\n",
        "!touch /content/datasets/.gitignore"
      ],
      "metadata": {
        "colab": {
          "base_uri": "https://localhost:8080/"
        },
        "id": "eSRlDOF7kMxN",
        "outputId": "3cfdc25f-d42d-419f-8be7-5ff19a04e5b4"
      },
      "execution_count": 6,
      "outputs": [
        {
          "output_type": "stream",
          "name": "stderr",
          "text": [
            "100%|██████████| 3.76G/3.76G [06:35<00:00, 10.2MB/s]\n"
          ]
        }
      ]
    },
    {
      "cell_type": "markdown",
      "source": [
        "# Train"
      ],
      "metadata": {
        "id": "5bW9HCiEu0dJ"
      }
    },
    {
      "cell_type": "code",
      "source": [
        "#@title Prepare logger\n",
        "#import tensorflow as tf\n",
        "# Чтобы TensorBoard отображал ход обучения модели, нужно зарегистрировать информацию об обучении с summary writer:\n",
        "#summary_writer = tf.summary.FileWriter('./logs')\n",
        "#Чтобы можно было наблюдать за ходом обучения в режиме реального времени, нужно загрузить TensorBoard до начала обучения модели с помощью команд:\n",
        "# Подготовить TensorBoard к работе\n",
        "%load_ext tensorboard\n",
        "# Запустить TensorBoard\n",
        "%tensorboard --logdir runs/pose/train"
      ],
      "metadata": {
        "cellView": "form",
        "id": "s67ZjnU7AEgz"
      },
      "execution_count": null,
      "outputs": []
    },
    {
      "cell_type": "code",
      "source": [
        "# Train YOLO11n on COCO8 for 3 epochs\n",
        "!yolo train model=yolo11n-pose.pt data=datasets/epoxy-level-1774/data.yaml epochs=3 imgsz=640"
      ],
      "metadata": {
        "id": "u0idTnhs3BF4"
      },
      "execution_count": null,
      "outputs": []
    },
    {
      "cell_type": "code",
      "source": [
        "#@title Python Usage\n",
        "from ultralytics import YOLO\n",
        "\n",
        "# Load a model\n",
        "model = YOLO('yolo11n-pose.yaml')  # build a new model from scratch\n",
        "model = YOLO('yolo11n-pose.pt')  # load a pretrained model (recommended for training)\n",
        "\n",
        "# Use the model\n",
        "results = model.train(data='coco8.yaml', epochs=3)  # train the model\n",
        "results = model.val()  # evaluate model performance on the validation set\n",
        "results = model('https://ultralytics.com/images/bus.jpg')  # predict on an image\n",
        "results = model.export(format='onnx')  # export the model to ONNX format"
      ],
      "metadata": {
        "cellView": "form",
        "id": "jOcnAFYf6ATE"
      },
      "execution_count": null,
      "outputs": []
    }
  ]
}