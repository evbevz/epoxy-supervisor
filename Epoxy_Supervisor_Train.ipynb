{
  "nbformat": 4,
  "nbformat_minor": 0,
  "metadata": {
    "colab": {
      "provenance": [],
      "authorship_tag": "ABX9TyNSnfa5uQNs7vJJlhg3v01x",
      "include_colab_link": true
    },
    "kernelspec": {
      "name": "python3",
      "display_name": "Python 3"
    },
    "language_info": {
      "name": "python"
    }
  },
  "cells": [
    {
      "cell_type": "markdown",
      "metadata": {
        "id": "view-in-github",
        "colab_type": "text"
      },
      "source": [
        "<a href=\"https://colab.research.google.com/github/evbevz/epoxy-supervisor/blob/main/Epoxy_Supervisor_Train.ipynb\" target=\"_parent\"><img src=\"https://colab.research.google.com/assets/colab-badge.svg\" alt=\"Open In Colab\"/></a>"
      ]
    },
    {
      "cell_type": "markdown",
      "source": [
        "[![Open In Colab](https://colab.research.google.com/assets/colab-badge.svg)](https://colab.research.google.com/github/evbevz/epoxy-supervisor/blob/main/notebooks/Epoxy-Supervisor-Train.ipynb)"
      ],
      "metadata": {
        "id": "3iCMH4Rcr6Qn"
      }
    },
    {
      "cell_type": "markdown",
      "source": [
        "# Setup"
      ],
      "metadata": {
        "id": "llN9YYhKrsm-"
      }
    },
    {
      "cell_type": "code",
      "source": [],
      "metadata": {
        "id": "dM_eu5dTr2Xy"
      },
      "execution_count": null,
      "outputs": []
    },
    {
      "cell_type": "markdown",
      "source": [
        "# Load Dataset"
      ],
      "metadata": {
        "id": "_pTd-mo0kEKs"
      }
    },
    {
      "cell_type": "code",
      "source": [],
      "metadata": {
        "id": "eSRlDOF7kMxN"
      },
      "execution_count": null,
      "outputs": []
    }
  ]
}