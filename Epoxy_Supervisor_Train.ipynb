{
  "cells": [
    {
      "cell_type": "markdown",
      "metadata": {
        "id": "view-in-github",
        "colab_type": "text"
      },
      "source": [
        "<a href=\"https://colab.research.google.com/github/evbevz/epoxy-supervisor/blob/main/Epoxy_Supervisor_Train.ipynb\" target=\"_parent\"><img src=\"https://colab.research.google.com/assets/colab-badge.svg\" alt=\"Open In Colab\"/></a>"
      ]
    },
    {
      "cell_type": "markdown",
      "metadata": {
        "id": "llN9YYhKrsm-"
      },
      "source": [
        "# Setup"
      ]
    },
    {
      "cell_type": "code",
      "execution_count": 1,
      "metadata": {
        "collapsed": true,
        "id": "dM_eu5dTr2Xy",
        "colab": {
          "base_uri": "https://localhost:8080/"
        },
        "outputId": "8cc6628d-709a-4ba1-953e-b8b64401d1be"
      },
      "outputs": [
        {
          "output_type": "stream",
          "name": "stdout",
          "text": [
            "Ultralytics 8.3.65 🚀 Python-3.11.11 torch-2.5.1+cu121 CUDA:0 (Tesla T4, 15102MiB)\n",
            "Setup complete ✅ (2 CPUs, 12.7 GB RAM, 31.1/112.6 GB disk)\n"
          ]
        }
      ],
      "source": [
        "%pip install ultralytics\n",
        "%pip install -U albumentations\n",
        "import ultralytics\n",
        "ultralytics.checks()"
      ]
    },
    {
      "cell_type": "markdown",
      "metadata": {
        "id": "3gITaj_5wy3b"
      },
      "source": [
        "# Git Clone?"
      ]
    },
    {
      "cell_type": "code",
      "execution_count": 2,
      "metadata": {
        "id": "LnYbVPSjw4RB",
        "colab": {
          "base_uri": "https://localhost:8080/"
        },
        "outputId": "279fa540-89ec-438f-b410-16b953d0a92a"
      },
      "outputs": [
        {
          "output_type": "stream",
          "name": "stdout",
          "text": [
            "Cloning into 'epoxy-supervisor'...\n",
            "remote: Enumerating objects: 479, done.\u001b[K\n",
            "remote: Counting objects: 100% (246/246), done.\u001b[K\n",
            "remote: Compressing objects: 100% (168/168), done.\u001b[K\n",
            "remote: Total 479 (delta 168), reused 111 (delta 78), pack-reused 233 (from 2)\u001b[K\n",
            "Receiving objects: 100% (479/479), 232.63 MiB | 23.31 MiB/s, done.\n",
            "Resolving deltas: 100% (230/230), done.\n"
          ]
        }
      ],
      "source": [
        "# Задел на будущее, чтобы потом туда выкладывать обученные модели (веса)\n",
        "!git clone https://github.com/evbevz/epoxy-supervisor.git"
      ]
    },
    {
      "cell_type": "markdown",
      "metadata": {
        "id": "_pTd-mo0kEKs"
      },
      "source": [
        "# Load Dataset"
      ]
    },
    {
      "cell_type": "code",
      "execution_count": 3,
      "metadata": {
        "id": "71DHiXhSUBJn",
        "colab": {
          "base_uri": "https://localhost:8080/"
        },
        "outputId": "4635bab5-1ad4-48a8-cad9-ef8acc864101"
      },
      "outputs": [
        {
          "output_type": "stream",
          "name": "stderr",
          "text": [
            "100%|██████████| 3.76G/3.76G [06:37<00:00, 10.2MB/s]\n"
          ]
        }
      ],
      "source": [
        "# Download Epoxy Level Dataset\n",
        "import torch\n",
        "torch.hub.download_url_to_file('http://robot.bevz.space/dataset/epoxy-level-1-1774-new.zip', 'tmp.zip')\n",
        "!unzip -q tmp.zip -d datasets && rm tmp.zip  # unzip"
      ]
    },
    {
      "cell_type": "code",
      "execution_count": 4,
      "metadata": {
        "id": "8WBKtPMEUOV3",
        "colab": {
          "base_uri": "https://localhost:8080/"
        },
        "outputId": "6b332a04-321c-41b3-dbe7-8095cb2d1ede"
      },
      "outputs": [
        {
          "output_type": "stream",
          "name": "stderr",
          "text": [
            "100%|██████████| 1.67G/1.67G [02:54<00:00, 10.2MB/s]\n"
          ]
        }
      ],
      "source": [
        "torch.hub.download_url_to_file('http://robot.bevz.space/dataset/epoxy-level-2-1140-new.zip', 'tmp.zip')\n",
        "!unzip -q tmp.zip -d datasets && rm tmp.zip  # unzip"
      ]
    },
    {
      "cell_type": "code",
      "execution_count": 5,
      "metadata": {
        "id": "eSRlDOF7kMxN",
        "colab": {
          "base_uri": "https://localhost:8080/"
        },
        "outputId": "4a371ff4-18b2-414c-c8ab-8ad2f2911546"
      },
      "outputs": [
        {
          "output_type": "stream",
          "name": "stderr",
          "text": [
            "100%|██████████| 5.07G/5.07G [09:03<00:00, 10.0MB/s]\n"
          ]
        }
      ],
      "source": [
        "torch.hub.download_url_to_file('http://robot.bevz.space/dataset/epoxy-level-3-2640-new.zip', 'tmp.zip')\n",
        "!unzip -q tmp.zip -d datasets && rm tmp.zip  # unzip\n",
        "!touch /content/datasets/.gitignore"
      ]
    },
    {
      "cell_type": "code",
      "source": [
        "!unzip -q /content/epoxy-supervisor/EpoxyLevelDatasetsAnnotations.zip -d datasets"
      ],
      "metadata": {
        "id": "ZV9k6ZQPpVoE"
      },
      "execution_count": 7,
      "outputs": []
    },
    {
      "cell_type": "code",
      "source": [
        "!mkdir -p runs/pose/train\n",
        "!unzip -q /content/epoxy-supervisor/2025-01-21_1.train.zip -d runs/pose/train"
      ],
      "metadata": {
        "id": "vSBjEFH1rizU"
      },
      "execution_count": 10,
      "outputs": []
    },
    {
      "cell_type": "markdown",
      "metadata": {
        "id": "5bW9HCiEu0dJ"
      },
      "source": [
        "# Train"
      ]
    },
    {
      "cell_type": "code",
      "execution_count": null,
      "metadata": {
        "id": "s67ZjnU7AEgz",
        "cellView": "form"
      },
      "outputs": [],
      "source": [
        "#@title Prepare logger\n",
        "# Чтобы можно было наблюдать за ходом обучения в режиме реального времени, нужно загрузить TensorBoard до начала обучения модели с помощью команд:\n",
        "# Подготовить TensorBoard к работе\n",
        "%load_ext tensorboard\n",
        "# Запустить TensorBoard\n",
        "%tensorboard --logdir runs"
      ]
    },
    {
      "cell_type": "code",
      "execution_count": null,
      "metadata": {
        "id": "u0idTnhs3BF4"
      },
      "outputs": [],
      "source": [
        "#@title Train YOLO11n-pose\n",
        "#!yolo train model=yolo11n-pose.pt data=datasets/epoxy-level-1774/data.yaml epochs=200 imgsz=640 patience=100 save_period=5 cache=ram single_cls=True augment=True\n",
        "#!yolo train model=yolo11n-pose.pt data=datasets/epoxy-level-1774/data.yaml epochs=300 imgsz=640 patience=100 save_period=5 cache=ram single_cls=True augment=True hsv_h=0.7 hsv_s=0.7 hsv_v=0.7 degrees=10 shear=10\n",
        "#!yolo train model=yolo11n-pose.pt data=datasets/epoxy-level-1774/data.yaml epochs=300 imgsz=640 patience=100 save_period=5 cache=ram single_cls=True augment=True hsv_h=0.7 hsv_s=0.7 hsv_v=0.7 degrees=10 shear=10\n",
        "#!yolo train model=/content/epoxy-supervisor/weights/epoxy-supervisor.20241221.pt data=datasets/epoxy-level-1140/data.yaml epochs=8000 imgsz=640 patience=100 save_period=100 cache=ram single_cls=True hsv_h=0.7 hsv_s=0.7 hsv_v=0.7 degrees=10 shear=10\n",
        "#!yolo train model=/content/epoxy-supervisor/weights/epoxy-supervisor.20241225.pt data=datasets/epoxy-level-2640/data.yaml epochs=1100 imgsz=640 patience=100 save_period=100 cache=ram single_cls=True batch=32\n",
        "#!yolo train model=/content/runs/pose/train/weights/last.pt data=/content/datasets/data.all.yaml epochs=1100 imgsz=640 patience=100 save_period=100 cache=ram single_cls=True batch=48 optimizer=AdamW\n",
        "!yolo pose train model=yolo11s-pose.pt data=/content/datasets/el.all.data.yaml epochs=500 imgsz=640 patience=100 save_period=100 cache=ram batch=48 hsv_h=0.7 hsv_s=0.7 hsv_v=0.7 degrees=10 shear=10"
      ]
    },
    {
      "cell_type": "code",
      "execution_count": null,
      "metadata": {
        "collapsed": true,
        "id": "uhte2kTKHW9b"
      },
      "outputs": [],
      "source": [
        "#@title Continue Train Model\n",
        "# Планировал для того, чтобы продолжать обучение модели с последнего шага, но пока не до конца разобрался с параметрами.\n",
        "# Почему то выдает ошибку.\n",
        "#!yolo train resume model=runs/pose/train/weights/best.pt data=datasets/epoxy-level-1774/data.yaml epochs=10 imgsz=640\n",
        "#!yolo train model=runs/pose/train/weights/last.pt data=datasets/epoxy-level-1774/data.yaml epochs=100 imgsz=640 patience=30 save_period=5 cache=ram single_cls=True augment=True\n",
        "#!yolo train model=runs/pose/train/weights/best.pt data=datasets/epoxy-level-1774/data.yaml epochs=100 imgsz=640 patience=30 save_period=5 cache=ram single_cls=True augment=True hsv_h=0.7 hsv_s=0.7 hsv_v=0.7 degrees=10 shear=10\n",
        "#!yolo train model=runs/pose/train2/weights/last.pt data=datasets/epoxy-level-1774/data.yaml epochs=100 imgsz=640 patience=50 save_period=5 cache=ram single_cls=True augment=True hsv_h=0.7 hsv_s=0.7 hsv_v=0.7 degrees=10 shear=10\n",
        "#!yolo train model=runs/pose/train/weights/last.pt data=datasets/epoxy-level-1140/data.yaml epochs=400 imgsz=640 patience=100 save_period=10 cache=ram single_cls=True batch=0.7\n",
        "#!yolo resume train model=runs/pose/train/weights/last.pt data=/content/datasets/el.all.data.yaml epochs=500 imgsz=640 patience=100 save_period=100 cache=ram single_cls=True batch=16\n",
        "!yolo resume pose train model=runs/pose/train/weights/last.pt data=/content/datasets/el.all.data.yaml epochs=700 imgsz=640 patience=100 save_period=100 cache=ram batch=48"
      ]
    },
    {
      "cell_type": "markdown",
      "metadata": {
        "id": "1FSOWxYSP0os"
      },
      "source": [
        "# Export"
      ]
    },
    {
      "cell_type": "code",
      "execution_count": null,
      "metadata": {
        "id": "3LXzI7jFQODV"
      },
      "outputs": [],
      "source": [
        "import shutil\n",
        "# Create a ZipFile\n",
        "#!rm -rf /content/runs/pose/predict*\n",
        "shutil.make_archive('/content/epoxy-supervisor/2025-01-21_1.train', 'zip', 'runs/pose/train')\n"
      ]
    },
    {
      "cell_type": "code",
      "execution_count": null,
      "metadata": {
        "id": "5LA4VcEFRNtJ"
      },
      "outputs": [],
      "source": [
        "# Нужно будет добавить токен для авторизации, иначе не дает обратно заливать\n",
        "%cd epoxy-supervisor\n",
        "!git commit -m \"Upload Train Data\"\n",
        "!git push"
      ]
    },
    {
      "cell_type": "markdown",
      "metadata": {
        "id": "TjxmugNegCmD"
      },
      "source": [
        "# Validate Epoxy Level Model"
      ]
    },
    {
      "cell_type": "code",
      "execution_count": null,
      "metadata": {
        "id": "lS2cVaKggSAC"
      },
      "outputs": [],
      "source": [
        "# Validate fine-tune model\n",
        "!yolo val model=/content/epoxy-supervisor/weights/epoxy-supervisor.20241224_2.pt data=datasets/epoxy-level-1774/data.yaml"
      ]
    },
    {
      "cell_type": "code",
      "execution_count": null,
      "metadata": {
        "id": "6h6ThW4hU9yX"
      },
      "outputs": [],
      "source": [
        "!yolo val model=/content/epoxy-supervisor/weights/epoxy-supervisor.20241224_2.pt data=datasets/epoxy-level-1140/data.yaml"
      ]
    },
    {
      "cell_type": "code",
      "execution_count": null,
      "metadata": {
        "id": "xmOXHbPqU-TH"
      },
      "outputs": [],
      "source": [
        "!yolo val model=/content/epoxy-supervisor/weights/epoxy-supervisor.20241224_2.pt data=datasets/epoxy-level-2640/data.yaml"
      ]
    },
    {
      "cell_type": "markdown",
      "metadata": {
        "id": "iTMMc2tNg31g"
      },
      "source": []
    },
    {
      "cell_type": "markdown",
      "metadata": {
        "id": "6ZfJb0udg4Ln"
      },
      "source": [
        "# Predict Epoxy Level Model"
      ]
    },
    {
      "cell_type": "code",
      "execution_count": null,
      "metadata": {
        "collapsed": true,
        "id": "361FIQfQg9up"
      },
      "outputs": [],
      "source": [
        "# Run inference on an image with Epoxy Level Model\n",
        "#!yolo predict model=/content/runs/pose/train/weights/best.pt source='datasets/epoxy-level-1774/images/test/000074.png'\n",
        "!yolo predict model=/content/epoxy-supervisor/weights/epoxy-supervisor.20241224_2.pt source='/content/datasets/epoxy-level-1774/images/test'"
      ]
    },
    {
      "cell_type": "code",
      "execution_count": null,
      "metadata": {
        "id": "XL7GRc_BVl1v"
      },
      "outputs": [],
      "source": [
        "!yolo predict model=/content/epoxy-supervisor/weights/epoxy-supervisor.20241224_2.pt source='/content/datasets/epoxy-level-1140/images/test'"
      ]
    },
    {
      "cell_type": "code",
      "execution_count": null,
      "metadata": {
        "id": "dSx16EaZVnK_"
      },
      "outputs": [],
      "source": [
        "!yolo predict model=/content/epoxy-supervisor/weights/epoxy-supervisor.20241224_2.pt source='/content/datasets/epoxy-level-2640/images/test'"
      ]
    },
    {
      "cell_type": "markdown",
      "metadata": {
        "id": "m6iumLotzgkx"
      },
      "source": [
        "# Google Colab Session Keep-Alive"
      ]
    },
    {
      "cell_type": "markdown",
      "metadata": {
        "id": "Y4YkqUqNznSz"
      },
      "source": [
        "\n",
        "\n",
        "As of June 2023, here's the working javascript code for preventing Google colab from disconnecting due to inactivity.\n",
        "\n",
        "\n",
        "```\n",
        " function keepAliveProgrammatically() {\n",
        "  document.querySelector('colab-connect-button').shadowRoot.querySelector(\"#connect\").click();\n",
        "}\n",
        "```\n",
        "The function above is responsible for clicking the compute resources button It is clicked after every 6 seconds. The code snippet below is responsible for running the function.\n",
        "```\n",
        "const keepAliveProgrammaticallyInterval = setInterval(() => {\n",
        "    keepAliveProgrammatically();\n",
        "}, 600000);\n",
        "```\n",
        "To stop the code, use the code snippet below.\n",
        "```\n",
        "clearInterval(keepAliveProgrammaticallyInterval);\n",
        "```"
      ]
    }
  ],
  "metadata": {
    "accelerator": "GPU",
    "colab": {
      "collapsed_sections": [
        "1FSOWxYSP0os",
        "TjxmugNegCmD",
        "6ZfJb0udg4Ln",
        "m6iumLotzgkx"
      ],
      "gpuType": "T4",
      "provenance": [],
      "include_colab_link": true
    },
    "kernelspec": {
      "display_name": "Python 3",
      "name": "python3"
    },
    "language_info": {
      "name": "python"
    }
  },
  "nbformat": 4,
  "nbformat_minor": 0
}