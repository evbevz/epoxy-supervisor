{
 "cells": [
  {
   "cell_type": "code",
   "execution_count": 4,
   "metadata": {
    "executionInfo": {
     "elapsed": 1048,
     "status": "ok",
     "timestamp": 1735046078753,
     "user": {
      "displayName": "np4coding",
      "userId": "12599497964204400195"
     },
     "user_tz": -180
    },
    "id": "Tzl8R2BHzKhj"
   },
   "outputs": [],
   "source": [
    "import torch\n",
    "import matplotlib.pyplot as plt"
   ]
  },
  {
   "cell_type": "code",
   "execution_count": 32,
   "metadata": {
    "colab": {
     "base_uri": "https://localhost:8080/",
     "height": 602
    },
    "executionInfo": {
     "elapsed": 1041,
     "status": "ok",
     "timestamp": 1735049627725,
     "user": {
      "displayName": "np4coding",
      "userId": "12599497964204400195"
     },
     "user_tz": -180
    },
    "id": "jeGNZgp7znZr",
    "outputId": "8dd166eb-4158-47d6-cbc8-9b5738ffca81"
   },
   "outputs": [
    {
     "name": "stdout",
     "output_type": "stream",
     "text": [
      "vA1: tensor([6., 2.]) \tL2: tensor(6.3246)\n",
      "vA2: tensor([8., 8.]) \tL2: tensor(11.3137)\n",
      "vX: tensor([5., 3.]) \tL2: tensor(5.8310)\n",
      "vA1A2: tensor([2., 6.]) \tL2: tensor(6.3246)\n",
      "vA1X: tensor([-1.,  1.]) \tL2: tensor(1.4142)\n",
      "Косинус угла между X и A1X: tensor(-0.2425)\n",
      "Косинус угла между A1X и A2: tensor(-0.2425)\n",
      "Косинус угла между A1 и A1X: tensor(-0.4472)\n",
      "---\n",
      "Косинус угла между A1X и A1A2: tensor(0.4472)\n",
      "Косинус угла между A1X и A1A0(-A1): tensor(0.4472)\n",
      "Проекция A1X на A1A2: tensor(0.6325)\n",
      "Проекция A1X на A1: tensor(-0.6325)\n",
      "---\n",
      "Дорасчетная проекция:  0\n"
     ]
    },
    {
     "data": {
      "image/png": "[encoded data removed]",
      "text/plain": [
       "<Figure size 640x480 with 1 Axes>"
      ]
     },
     "metadata": {},
     "output_type": "display_data"
    }
   ],
   "source": [
    "#@title Наглядное отображение операций с векторами\n",
    "\n",
    "# Косинусное сходство (Косинус угла между векторами)\n",
    "def cos_sim (v1, v2):\n",
    "    cosine_similarity = torch.dot(v1, v2) / (torch.linalg.vector_norm(v1) * torch.linalg.vector_norm(v2))\n",
    "    return cosine_similarity\n",
    "\n",
    "# Проекция вектора на вектор\n",
    "def pr_vec (v1, v2):\n",
    "    pr_v1_on_v2 = torch.dot(v1, v2) / torch.linalg.vector_norm(v2)\n",
    "    return pr_v1_on_v2\n",
    "    \n",
    "# Создаем вектора\n",
    "vA0 = torch.Tensor([0,0])\n",
    "vA1 = torch.Tensor([6,2])\n",
    "vA2 = torch.Tensor([8,8])\n",
    "vX  = torch.Tensor([5,3])\n",
    "\n",
    "vA1X  = vX - vA1\n",
    "vA2X  = vX - vA2\n",
    "vA1A2 = vA2 - vA1 \n",
    "\n",
    "# Вычисляем L2-норму (Евклидову метрику, Евклидово расстояние)\n",
    "L2_A1   = torch.linalg.vector_norm(vA1)\n",
    "L2_A2   = torch.linalg.vector_norm(vA2)\n",
    "L2_X    = torch.linalg.vector_norm(vX)\n",
    "L2_A1A2 = torch.linalg.vector_norm(vA1A2)\n",
    "L2_A1X  = torch.linalg.vector_norm(vA1X)\n",
    "L2_A2X  = torch.linalg.vector_norm(vA2X)\n",
    "\n",
    "# Вывод\n",
    "print (\"vA1:\", vA1, \"\\tL2:\", L2_A1)\n",
    "print (\"vA2:\", vA2, \"\\tL2:\", L2_A2)\n",
    "print (\"vX:\", vX, \"\\tL2:\", L2_X)\n",
    "print (\"vA1A2:\", vA1A2, \"\\tL2:\", L2_A1A2)\n",
    "print (\"vA1X:\", vA1X, \"\\tL2:\", L2_A1X)\n",
    "#print (\"vA2X:\", vA2X, \"\\tL2:\", L2_A2X)\n",
    "\n",
    "# Высчитываем угол между векторами\n",
    "print ('Косинус угла между X и A1X:', cos_sim(vX,vA1X))\n",
    "print ('Косинус угла между A1X и A2:', cos_sim(vA1X,vA2X))\n",
    "print ('Косинус угла между A1 и A1X:', cos_sim(vA1,vA1X))\n",
    "print (\"---\")\n",
    "\n",
    "# Дорасчёт проекции в нужную сторону\n",
    "cos_vA1X_vA1A2 = cos_sim(vA1X,vA1A2)\n",
    "print ('Косинус угла между A1X и A1A2:', cos_vA1X_vA1A2)\n",
    "cos_vA1X_vA1A0 = cos_sim(vA1X,-vA1)\n",
    "print ('Косинус угла между A1X и A1A0(-A1):', cos_vA1X_vA1A0)\n",
    "if cos_vA1X_vA1A2 > cos_vA1X_vA1A0:\n",
    "    #vPr = vA1A2 # vA2 - vA1\n",
    "    pr = pr_vec(vA1X, vA1A2)    \n",
    "elif cos_vA1X_vA1A2 < cos_vA1X_vA1A0:\n",
    "    #vPr = vA1\n",
    "    pr = pr_vec(vA1X, vA1)    \n",
    "else:\n",
    "    pr = 0\n",
    "\n",
    "# Высчитываем проекцию векторов на другие вектора\n",
    "print ('Проекция A1X на A1A2:', pr_vec(vA1X, vA1A2))\n",
    "print ('Проекция A1X на A1:', pr_vec(vA1X, vA1))\n",
    "print (\"---\")\n",
    "print (\"Дорасчетная проекция: \", pr)\n",
    "#print ('Проекция A2X на A1A2:', pr_vec(vA2X, vA1A2))\n",
    "#print ('Проекция X на A1:', pr_vec(vX, vA1))\n",
    "#print (\"---\")\n",
    "#print ('Проекция A1 на A2:', pr_vec(vA1, vA2))\n",
    "#print ('Проекция X на A2:', pr_vec(vX, vA2))\n",
    "\n",
    "# Визуализация\n",
    "arrowprops = {'arrowstyle': '<|-'}\n",
    "plt.annotate(r'$\\vec A_1$',xy=(0,0),xytext=vA1,arrowprops=arrowprops|{'color': '#000000'})\n",
    "plt.annotate(r'$\\vec A_2$',xy=(0,0),xytext=vA2,arrowprops=arrowprops|{'color': '#00ff00'})\n",
    "plt.annotate('',xy=vA1,xytext=vA2,arrowprops=arrowprops|{'color': '#00aa00'})\n",
    "plt.annotate(r'$\\vec X$',xy=(0,0),xytext=vX,arrowprops=arrowprops|{'color': '#ff0000'})\n",
    "plt.annotate('',xy=vA1,xytext=vX,arrowprops=arrowprops|{'color': '#aa0000'})\n",
    "plt.annotate('',xy=vA2,xytext=vX,arrowprops=arrowprops|{'color': '#aa00aa'})\n",
    "\n",
    "plt.axis('square')\n",
    "plt.xlim(0, 8)\n",
    "plt.ylim(0, 8)\n",
    "plt.grid(linewidth=0.5)\n",
    "plt.show()"
   ]
  }
 ],
 "metadata": {
  "colab": {
   "authorship_tag": "ABX9TyMt8t5swTBOKaWiylpRDIYf",
   "provenance": []
  },
  "kernelspec": {
   "display_name": "Python 3 (ipykernel)",
   "language": "python",
   "name": "python3"
  },
  "language_info": {
   "codemirror_mode": {
    "name": "ipython",
    "version": 3
   },
   "file_extension": ".py",
   "mimetype": "text/x-python",
   "name": "python",
   "nbconvert_exporter": "python",
   "pygments_lexer": "ipython3",
   "version": "3.11.2"
  }
 },
 "nbformat": 4,
 "nbformat_minor": 4
}
