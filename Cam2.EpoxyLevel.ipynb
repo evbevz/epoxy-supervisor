{
 "cells": [
  {
   "cell_type": "markdown",
   "metadata": {
    "colab_type": "text",
    "id": "view-in-github"
   },
   "source": [
    "<a href=\"https://colab.research.google.com/github/evbevz/epoxy-supervisor/blob/main/EpoxyLevel.ipynb\" target=\"_parent\"><img src=\"https://colab.research.google.com/assets/colab-badge.svg\" alt=\"Open In Colab\"/></a>"
   ]
  },
  {
   "cell_type": "code",
   "execution_count": 1,
   "metadata": {
    "id": "5aD9FoYBGYgl"
   },
   "outputs": [],
   "source": [
    "%%capture\n",
    "try:\n",
    "    import google.colab\n",
    "    IS_COLAB_ENV = True\n",
    "except:\n",
    "    IS_COLAB_ENV = False\n",
    "if IS_COLAB_ENV:\n",
    "    %pip install ultralytics\n",
    "    !git clone https://github.com/evbevz/epoxy-supervisor.git\n",
    "    dirBase = '/content/drive/MyDrive/Colab Notebooks/'\n",
    "\n",
    "    from google.colab import drive\n",
    "    drive.mount('/content/drive/')\n",
    "else:\n",
    "    dirBase = '/home/nikolay/opencv/'\n",
    "%cd \"{dirBase}epoxy-supervisor/\""
   ]
  },
  {
   "cell_type": "code",
   "execution_count": 4,
   "metadata": {
    "colab": {
     "base_uri": "https://localhost:8080/"
    },
    "id": "t93WCYmAEJJ2",
    "outputId": "2e769976-3d22-44aa-c7ac-5c96c5918412"
   },
   "outputs": [
    {
     "name": "stdout",
     "output_type": "stream",
     "text": [
      "Уровень эпоксидки: 10.93859663233161\n"
     ]
    }
   ],
   "source": [
    "import epoxylib\n",
    "import os\n",
    "from ultralytics import YOLO\n",
    "\n",
    "# Значение уверенности в правильности распознавания, ниже которого не будем считать, что точки определились правильно. Т.е. координаты такой точки будем считать ложными и точку игнорировать.\n",
    "kptConfidence = 0.8 # Сейчас точки если и распознаются, то с уверенностью больше 0.9\n",
    "\n",
    "# Калибровочный файл в котором хранятся уровни от 0 до 20мл. В виде координат X,Y центра эллипса поверхности эпоксидки на каждом уровне.\n",
    "filenameAnnotation = dirBase + 'epoxy-supervisor/samples/EpoxyLevelCalibrate.Cam2.Annotations.xml'\n",
    "\n",
    "# Файл весов обученной для распознавания модели\n",
    "#filenameAIModel = dirBase + 'epoxy-supervisor/weights/epoxy-supervisor.20241228.best.pt'\n",
    "#filenameAIModel = dirBase + 'epoxy-supervisor/weights/es.yolo11s-pose.20250121.epoch400.pt'\n",
    "#filenameAIModel = dirBase + 'epoxy-supervisor/weights/es.yolo11s-pose.20250213.best.pt'\n",
    "filenameAIModel = dirBase + 'epoxy-supervisor/weights/es.onepoint.yolo11s-pose.20250317.best.pt'\n",
    "\n",
    "# Изображение для предсказания уровня эпоксидки\n",
    "#filenameInjectorCam = dirBase + 'epoxy-supervisor/datasets/cam2.lvl3.one-point-ds/images/test/lvl3-00048.png' #20\n",
    "#filenameInjectorCam = dirBase + 'epoxy-supervisor/datasets/cam2.lvl3.one-point-ds/images/test/lvl3-00060.png' #20\n",
    "#filenameInjectorCam = dirBase + 'epoxy-supervisor/datasets/cam2.lvl3.one-point-ds/images/test/lvl3-00110.png' #19\n",
    "#filenameInjectorCam = dirBase + 'epoxy-supervisor/datasets/cam2.lvl3.one-point-ds/images/test/lvl3-00120.png' #18\n",
    "#filenameInjectorCam = dirBase + 'epoxy-supervisor/datasets/cam2.lvl3.one-point-ds/images/test/lvl3-00175.png' #17\n",
    "#filenameInjectorCam = dirBase + 'epoxy-supervisor/datasets/cam2.lvl3.one-point-ds/images/test/lvl3-00227.png' #16\n",
    "#filenameInjectorCam = dirBase + 'epoxy-supervisor/datasets/cam2.lvl3.one-point-ds/images/test/lvl3-00311.png' #15\n",
    "#filenameInjectorCam = dirBase + 'epoxy-supervisor/datasets/cam2.lvl3.one-point-ds/images/test/lvl3-00409.png' #14\n",
    "#filenameInjectorCam = dirBase + 'epoxy-supervisor/datasets/cam2.lvl3.one-point-ds/images/test/lvl3-00508.png' #13\n",
    "#filenameInjectorCam = dirBase + 'epoxy-supervisor/datasets/cam2.lvl3.one-point-ds/images/test/lvl3-00582.png' #12\n",
    "#filenameInjectorCam = dirBase + 'epoxy-supervisor/datasets/cam2.lvl3.one-point-ds/images/test/lvl3-00668.png' #11\n",
    "#filenameInjectorCam = dirBase + 'epoxy-supervisor/datasets/cam2.lvl3.one-point-ds/images/test/lvl3-00751.png' #10\n",
    "#filenameInjectorCam = dirBase + 'epoxy-supervisor/datasets/cam2.lvl3.one-point-ds/images/test/lvl3-00843.png' # 9\n",
    "#filenameInjectorCam = dirBase + 'epoxy-supervisor/datasets/cam2.lvl3.one-point-ds/images/test/lvl3-00951.png' # 8\n",
    "#filenameInjectorCam = dirBase + 'epoxy-supervisor/datasets/cam2.lvl3.one-point-ds/images/test/lvl3-01035.png' # 7\n",
    "#filenameInjectorCam = dirBase + 'epoxy-supervisor/datasets/cam2.lvl3.one-point-ds/images/test/lvl3-01168.png' # 6\n",
    "#filenameInjectorCam = dirBase + 'epoxy-supervisor/datasets/cam2.lvl3.one-point-ds/images/test/lvl3-01298.png' # 5\n",
    "#filenameInjectorCam = dirBase + 'epoxy-supervisor/datasets/cam2.lvl3.one-point-ds/images/test/lvl3-01434.png' # 4\n",
    "#filenameInjectorCam = dirBase + 'epoxy-supervisor/datasets/cam2.lvl3.one-point-ds/images/test/lvl3-01533.png' # 3\n",
    "#filenameInjectorCam = dirBase + 'epoxy-supervisor/datasets/cam2.lvl3.one-point-ds/images/test/lvl3-01635.png' # 2\n",
    "#filenameInjectorCam = dirBase + 'epoxy-supervisor/datasets/cam2.lvl3.one-point-ds/images/test/lvl3-01808.png' # 1\n",
    "#filenameInjectorCam = dirBase + 'epoxy-supervisor/datasets/cam2.lvl3.one-point-ds/images/test/lvl3-02070.png' # 0\n",
    "\n",
    "filenameInjectorCam = dirBase + 'epoxy-supervisor/datasets/cam2.lvl3.one-point-ds/images/test/lvl3-00668.png'\n",
    "#filenameInjectorCam = dirBase + 'epoxy-supervisor/lvl-test/frames/lvl-00022.png'\n",
    "#filenameInjectorCam = dirBase + 'epoxy-supervisor/frames-009/00900004.png'\n",
    "\n",
    "# Калибруем шприц\n",
    "arrayEpoxyLevel = epoxylib.Calibrate(filenameAnnotation)\n",
    "\n",
    "# Загружаем модель\n",
    "model = YOLO(filenameAIModel)\n",
    "\n",
    "# Запрос уровня по изображению\n",
    "level = 20\n",
    "level = epoxylib.GetEpoxyLevel(model, arrayEpoxyLevel, filenameInjectorCam, kptConfidence, level)\n",
    "print (f\"Уровень эпоксидки: {level}\")"
   ]
  },
  {
   "cell_type": "code",
   "execution_count": null,
   "metadata": {},
   "outputs": [],
   "source": []
  }
 ],
 "metadata": {
  "colab": {
   "include_colab_link": true,
   "provenance": []
  },
  "kernelspec": {
   "display_name": "Python 3 (ipykernel)",
   "language": "python",
   "name": "python3"
  },
  "language_info": {
   "codemirror_mode": {
    "name": "ipython",
    "version": 3
   },
   "file_extension": ".py",
   "mimetype": "text/x-python",
   "name": "python",
   "nbconvert_exporter": "python",
   "pygments_lexer": "ipython3",
   "version": "3.11.2"
  }
 },
 "nbformat": 4,
 "nbformat_minor": 4
}
