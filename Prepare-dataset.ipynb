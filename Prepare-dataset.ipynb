{
 "cells": [
  {
   "cell_type": "code",
   "execution_count": 45,
   "id": "eabc52a0",
   "metadata": {},
   "outputs": [],
   "source": [
    "import os\n",
    "\n",
    "datasetName = 'epoxy-level-2640'\n",
    "data = f'data/datasets/{datasetName}'\n",
    "\n",
    "imagesPath = f'{data}/images/all'\n",
    "labelsPath = f'{data}/labels/all'\n"
   ]
  },
  {
   "cell_type": "code",
   "execution_count": 46,
   "id": "75385896",
   "metadata": {},
   "outputs": [],
   "source": [
    "from pathlib import Path\n",
    "\n",
    "# создаём структуру папок\n",
    "\n",
    "Path(f\"{data}/images/all\").mkdir(parents=True, exist_ok=True)\n",
    "Path(f\"{data}/images/train\").mkdir(parents=True, exist_ok=True)\n",
    "Path(f\"{data}/images/test\").mkdir(parents=True, exist_ok=True)\n",
    "Path(f\"{data}/images/val\").mkdir(parents=True, exist_ok=True)\n",
    "\n",
    "Path(f\"{data}/labels/all\").mkdir(parents=True, exist_ok=True)\n",
    "Path(f\"{data}/labels/train\").mkdir(parents=True, exist_ok=True)\n",
    "Path(f\"{data}/labels/test\").mkdir(parents=True, exist_ok=True)\n",
    "Path(f\"{data}/labels/val\").mkdir(parents=True, exist_ok=True)\n"
   ]
  },
  {
   "cell_type": "code",
   "execution_count": 47,
   "id": "7df24886",
   "metadata": {},
   "outputs": [],
   "source": [
    "import os\n",
    "import shutil\n",
    "\n",
    "# переносим исходные данные аннотаций\n",
    "\n",
    "for f in os.listdir(f'{data}/labels/train/frames'):\n",
    "    shutil.move(f'{data}/labels/train/frames/{f}', f'{labelsPath}/{f}')\n",
    "os.rmdir(f'{data}/labels/train/frames')"
   ]
  },
  {
   "cell_type": "markdown",
   "id": "d67855b1",
   "metadata": {},
   "source": [
    "### Делим аннотации на части train/val/test:  70/20/10"
   ]
  },
  {
   "cell_type": "code",
   "execution_count": 48,
   "id": "0ec8caf7",
   "metadata": {},
   "outputs": [
    {
     "name": "stdout",
     "output_type": "stream",
     "text": [
      "train: 1769\n",
      "val: 442\n",
      "test: 245\n"
     ]
    }
   ],
   "source": [
    "import random\n",
    "\n",
    "def moveRandom(src, dst):\n",
    "    item = src[random.randint(0, len(src)-1)]\n",
    "    src.remove(item)\n",
    "    dst.append(item)\n",
    "\n",
    "labels = os.listdir(labelsPath)\n",
    "labels.sort()\n",
    "\n",
    "random.seed()\n",
    "test = []\n",
    "[moveRandom(labels, test) for x in range(0, int(len(labels)/10))]\n",
    "\n",
    "val = []\n",
    "[moveRandom(labels, val) for x in range(0, int(len(labels)/10*2))]\n",
    "\n",
    "train = labels\n",
    "\n",
    "val.sort()\n",
    "test.sort()\n",
    "train.sort()\n",
    "\n",
    "print('train:', len(labels))\n",
    "print('val:', len(val))\n",
    "print('test:', len(test))"
   ]
  },
  {
   "cell_type": "code",
   "execution_count": 49,
   "id": "43442fdd",
   "metadata": {},
   "outputs": [],
   "source": [
    "# Пишем файл-листы\n",
    "\n",
    "out = open(f'{data}/val.txt', 'w')\n",
    "for f in val:\n",
    "    imgFile = f.replace(\".txt\", \".png\")\n",
    "    out.write(f'images/val/{imgFile}\\n')\n",
    "out.close()\n",
    "\n",
    "out = open(f'{data}/test.txt', 'w')\n",
    "for f in test:\n",
    "    imgFile = f.replace(\".txt\", \".png\")\n",
    "    out.write(f'images/test/{imgFile}\\n')\n",
    "out.close()\n",
    "\n",
    "out = open(f'{data}/train.txt', 'w')\n",
    "for f in train:\n",
    "    imgFile = f.replace(\".txt\", \".png\")\n",
    "    out.write(f'images/train/{imgFile}\\n')\n",
    "out.close()"
   ]
  },
  {
   "cell_type": "code",
   "execution_count": 50,
   "id": "f8860988",
   "metadata": {},
   "outputs": [
    {
     "name": "stdout",
     "output_type": "stream",
     "text": [
      "Done\n"
     ]
    }
   ],
   "source": [
    "# Move labels files\n",
    "\n",
    "import shutil\n",
    "\n",
    "[shutil.move(f'{labelsPath}/{f}', f'{data}/labels/train/{f}') for f in train]\n",
    "[shutil.move(f'{labelsPath}/{f}', f'{data}/labels/val/{f}') for f in val]\n",
    "[shutil.move(f'{labelsPath}/{f}', f'{data}/labels/test/{f}') for f in test]\n",
    "print('Done')"
   ]
  },
  {
   "cell_type": "code",
   "execution_count": 51,
   "id": "9d5da91c",
   "metadata": {},
   "outputs": [],
   "source": [
    "# Move image files\n",
    "\n",
    "for f in train:\n",
    "    imgFile = f.replace(\".txt\", \".png\")\n",
    "    shutil.move(f'{imagesPath}/{imgFile}', f'{data}/images/train/{imgFile}')\n",
    "\n",
    "for f in val:\n",
    "    imgFile = f.replace(\".txt\", \".png\")\n",
    "    shutil.move(f'{imagesPath}/{imgFile}', f'{data}/images/val/{imgFile}')\n",
    "\n",
    "for f in test:\n",
    "    imgFile = f.replace(\".txt\", \".png\")\n",
    "    shutil.move(f'{imagesPath}/{imgFile}', f'{data}/images/test/{imgFile}')"
   ]
  },
  {
   "cell_type": "code",
   "execution_count": 52,
   "id": "a9ef784b",
   "metadata": {},
   "outputs": [
    {
     "name": "stdout",
     "output_type": "stream",
     "text": [
      "kpt_shape:\n",
      "- 6\n",
      "- 3\n",
      "names:\n",
      "  0: epoxy level in injector\n",
      "path: .\n",
      "train: epoxy-level-2640/images/train\n",
      "val: epoxy-level-2640/images/val\n",
      "test: epoxy-level-2640/images/test\n",
      "\n"
     ]
    }
   ],
   "source": [
    "# update data.yaml\n",
    "\n",
    "f = open(f\"{data}/data.yaml\", 'r')\n",
    "content = f.read()\n",
    "f.close()\n",
    "content = content.replace('train: train.txt', f'train: {datasetName}/images/train')\n",
    "content += f'val: {datasetName}/images/val\\n'\n",
    "content += f'test: {datasetName}/images/test\\n'\n",
    "print(content)\n",
    "\n",
    "f = open(f\"{data}/data.yaml\", 'w')\n",
    "f.write(content)\n",
    "f.close()"
   ]
  },
  {
   "cell_type": "code",
   "execution_count": null,
   "id": "4439327e",
   "metadata": {},
   "outputs": [],
   "source": []
  }
 ],
 "metadata": {
  "kernelspec": {
   "display_name": "Python 3 (ipykernel)",
   "language": "python",
   "name": "python3"
  },
  "language_info": {
   "codemirror_mode": {
    "name": "ipython",
    "version": 3
   },
   "file_extension": ".py",
   "mimetype": "text/x-python",
   "name": "python",
   "nbconvert_exporter": "python",
   "pygments_lexer": "ipython3",
   "version": "3.11.10"
  }
 },
 "nbformat": 4,
 "nbformat_minor": 5
}
