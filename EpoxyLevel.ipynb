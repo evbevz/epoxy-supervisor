{
  "cells": [
    {
      "cell_type": "markdown",
      "metadata": {
        "id": "view-in-github",
        "colab_type": "text"
      },
      "source": [
        "<a href=\"https://colab.research.google.com/github/evbevz/epoxy-supervisor/blob/main/EpoxyLevel.ipynb\" target=\"_parent\"><img src=\"https://colab.research.google.com/assets/colab-badge.svg\" alt=\"Open In Colab\"/></a>"
      ]
    },
    {
      "cell_type": "code",
      "execution_count": 1,
      "metadata": {
        "id": "5aD9FoYBGYgl"
      },
      "outputs": [],
      "source": [
        "%%capture\n",
        "try:\n",
        "    import google.colab\n",
        "    IS_COLAB_ENV = True\n",
        "except:\n",
        "    IS_COLAB_ENV = False\n",
        "if IS_COLAB_ENV:\n",
        "    %pip install ultralytics\n",
        "    !git clone https://github.com/evbevz/epoxy-supervisor.git\n",
        "    dirBase = '/content/'\n",
        "else:\n",
        "    dirBase = '/home/nikolay/opencv/'\n",
        "%cd \"{dirBase}/epoxy-supervisor/\""
      ]
    },
    {
      "cell_type": "code",
      "execution_count": 11,
      "metadata": {
        "id": "t93WCYmAEJJ2",
        "colab": {
          "base_uri": "https://localhost:8080/"
        },
        "outputId": "2e769976-3d22-44aa-c7ac-5c96c5918412"
      },
      "outputs": [
        {
          "output_type": "execute_result",
          "data": {
            "text/plain": [
              "9.889664098620415"
            ]
          },
          "metadata": {},
          "execution_count": 11
        }
      ],
      "source": [
        "import epoxylib\n",
        "from ultralytics import YOLO\n",
        "\n",
        "# Значение уверенности в правильности распознавания, ниже которого не будем считать, что точки определились правильно. Т.е. координаты такой точки будем считать ложными и точку игнорировать.\n",
        "kptConfidence = 0.8 # Сейчас точки если и распознаются, то с уверенностью больше 0.9\n",
        "\n",
        "# Калибровочный файл в котором хранятся уровни от 0 до 20мл. В виде координат X,Y центра эллипса поверхности эпоксидки на каждом уровне.\n",
        "filenameAnnotation = dirBase + 'epoxy-supervisor/samples/EpoxyLevelCalibrate.annotations.xml'\n",
        "\n",
        "# Файл весов обученной для распознавания модели\n",
        "filenameAIModel = dirBase + 'epoxy-supervisor/weights/epoxy-supervisor.20241228.best.pt'\n",
        "\n",
        "# Изображение для предсказания уровня эпоксидки\n",
        "#filenameInjectorCam = 'epoxy-supervisor/samples/fail01.png'\n",
        "#filenameInjectorCam = 'epoxy-supervisor/samples/000030.png'\n",
        "filenameInjectorCam = dirBase + 'epoxy-supervisor/samples/10ml.png'\n",
        "\n",
        "# Калибруем шприц\n",
        "arrayEpoxyLevel = epoxylib.Calibrate(filenameAnnotation)\n",
        "\n",
        "# Загружаем модель\n",
        "model = YOLO(filenameAIModel)\n",
        "\n",
        "# Запрос уровня по изображению\n",
        "epoxylib.GetEpoxyLevel(model, arrayEpoxyLevel, filenameInjectorCam, kptConfidence)"
      ]
    }
  ],
  "metadata": {
    "colab": {
      "provenance": [],
      "include_colab_link": true
    },
    "kernelspec": {
      "display_name": "Python 3 (ipykernel)",
      "language": "python",
      "name": "python3"
    },
    "language_info": {
      "codemirror_mode": {
        "name": "ipython",
        "version": 3
      },
      "file_extension": ".py",
      "mimetype": "text/x-python",
      "name": "python",
      "nbconvert_exporter": "python",
      "pygments_lexer": "ipython3",
      "version": "3.11.2"
    }
  },
  "nbformat": 4,
  "nbformat_minor": 0
}