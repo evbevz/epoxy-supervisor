{
 "cells": [
  {
   "cell_type": "code",
   "execution_count": 8,
   "id": "eb3e7134-3559-4489-b650-d4cbcf7ef649",
   "metadata": {
    "editable": true,
    "scrolled": true,
    "slideshow": {
     "slide_type": ""
    },
    "tags": []
   },
   "outputs": [
    {
     "name": "stdout",
     "output_type": "stream",
     "text": [
      "\n",
      "image 1/1 /home/nikolay/opencv/epoxy-supervisor/datasets/epoxy-level-1774/images/test/000019.png: 480x640 1 epoxy level in injector, 20.7ms\n",
      "Speed: 14.0ms preprocess, 20.7ms inference, 57.7ms postprocess per image at shape (1, 3, 480, 640)\n"
     ]
    },
    {
     "data": {
      "text/plain": [
       "10"
      ]
     },
     "execution_count": 8,
     "metadata": {},
     "output_type": "execute_result"
    }
   ],
   "source": [
    "from lxml import etree\n",
    "#import numpy as np\n",
    "import torch\n",
    "from ultralytics import YOLO\n",
    "\n",
    "# Загрузка файла анотации в формате \"CVAT for images 1.1\"\n",
    "# Из файла берётся массив точек полилинии с разметкой шкалы деления: 0мл, 1мл, ... 20мл\n",
    "def Calibrate (fAnnotation):\n",
    "#!!! Дописать проверку наличия файла с аннотацией\n",
    "    tree = etree.parse(fAnnotation)\n",
    "    root = tree.getroot()\n",
    "    result = root.xpath('//polyline[@label=\"injector meter\"]')\n",
    "#!!! Дописать проверку в конфиге необходимого тега полилинии, и точек внутри\n",
    "    points = result[0].attrib['points']\n",
    "    # Сложная конструкция, но по сути разбирает стороку на список списков (двумерный список) из двух значений попутно переводя из строковых значений в числовое значние.\n",
    "    list_of_points = list(map(lambda x: list(map(float,x.split(','))), points.split(';')))\n",
    "    # array_of_points = np.array(list_of_points) # Изначально думал работать в NumPy, но предсказания выдают значения в тензорах и потому решил тут тоже использовать тензоры\n",
    "    array_of_points = torch.tensor(list_of_points)\n",
    "    #print (array_of_points)\n",
    "    #return list_of_points\n",
    "    return array_of_points\n",
    "\n",
    "def GetEpoxyLevel (model, arrayEpoxyLevel, file):\n",
    "    # Запускаем предсказание\n",
    "    results = model(filenameInjectorCam)  # Предсказание по изображению. Возвращается список результатов (т.к. можно передать список кадров или даже видео)\n",
    "#!!! Дописать проверку на возврат значения неудавшегося предсказания\n",
    "    # Теоретически может быть список результатов, но берём только одно - первое.\n",
    "    keypoints = results[0].keypoints  # Keypoints object for pose outputs\n",
    "    #results[0].show()  # display to screen\n",
    "    #print ('--- Keypoints: ---\\n', keypoints)\n",
    "    \n",
    "    # Вычисляем середину диагоналей эллипса. На будущее стоит просто определять bounding box этого эллипса. Модель уже выдает как раз середину.\n",
    "    # Середина между левой и правой точками большой диагонали эллипса\n",
    "    big_axis_center = (keypoints.xy[0][2] + keypoints.xy[0][3])/2\n",
    "    # Середина между дальней и ближней точками малой диагонали эллипса\n",
    "    small_axis_center = (keypoints.xy[0][4] + keypoints.xy[0][5])/2\n",
    "    # Середина между серединой большой и серединой малой диагоналей. Иногда может быть не равная серединам каждой из них (при ошибках в определении ключевых точек моделью).\n",
    "    ellipse_center = (big_axis_center + small_axis_center)/2\n",
    "    \n",
    "    # Переносим массив точек шприца на то же устройство рассчета где и тензоры модели предсказаний. Если расчёты велись на CUDA, то лучше там и считать всё остальное.\n",
    "    arrayEpoxyLevel = arrayEpoxyLevel.to(ellipse_center.device)\n",
    "    \n",
    "    # Вычисляем ближайшую калиброванную точку к предсказанной точке (середине эллипса)\n",
    "    LengthMin = (keypoints.orig_shape[0]**2+keypoints.orig_shape[1]**2)**0.5 # Нужно просто большое значение, но решил указать максимально возможное расстояние на изображении (диагональ)\n",
    "    LevelMin = 0\n",
    "    for level, kpt in enumerate(arrayEpoxyLevel):\n",
    "        Length = torch.norm(ellipse_center - kpt) # Расстояние между предсказанной точкой и калиброванной точкой\n",
    "        if Length < LengthMin: # Если решим, что хоти чтобы при одинаковом расстоянии показывал значение большего уровня, то тогда поставить знак сравнения <=\n",
    "            LengthMin = Length # Запоминаем минимальное расстояние\n",
    "            LevelMin = level # Запоминаем уровень к точке которого расстояние минимальное\n",
    "        #print (\"Уровень: \", level, \"\\tКалиброванная точка: \", kpt, \"\\tПредсказанная точка: \", ellipse_center, \"\\tРасстояние: \", Length)\n",
    "    #print (\"Предсказанный уровень эпоксидки: \", LevelMin)\n",
    "    return LevelMin\n",
    "    \n",
    "# Калибровочный файл в котором хранятся уровни от 0 до 20мл. В виде координат X,Y центра эллипса поверхности эпоксидки на каждом уровне.\n",
    "filenameAnnotation = '/home/nikolay/opencv/epoxy-supervisor/samples/EpoxyLevelCalibrate.annotations.xml'\n",
    "\n",
    "# Файл весов обученной для распознавания модели\n",
    "filenameAIModel = '/home/nikolay/opencv/epoxy-supervisor/weights/epoxy-supervisor.20241228.best.pt'\n",
    "\n",
    "# Изображение для предсказания уровня эпоксидки\n",
    "filenameInjectorCam = '/home/nikolay/opencv/epoxy-supervisor/datasets/epoxy-level-1774/images/test/000019.png'\n",
    "#filenameInjectorCam = [ '/home/nikolay/opencv/epoxy-supervisor/datasets/epoxy-level-2640/images/test/00300010.png',\n",
    "#                        '/home/nikolay/opencv/epoxy-supervisor/datasets/epoxy-level-2640/images/test/00302625.png']\n",
    "\n",
    "# Калибруем шприц\n",
    "arrayEpoxyLevel = Calibrate(filenameAnnotation)\n",
    "\n",
    "# Загружаем модель\n",
    "model = YOLO(filenameAIModel)  # load a pretrained model\n",
    "\n",
    "# Запрос уровня по изображению\n",
    "GetEpoxyLevel(model, arrayEpoxyLevel, filenameInjectorCam)"
   ]
  }
 ],
 "metadata": {
  "kernelspec": {
   "display_name": "Python 3 (ipykernel)",
   "language": "python",
   "name": "python3"
  },
  "language_info": {
   "codemirror_mode": {
    "name": "ipython",
    "version": 3
   },
   "file_extension": ".py",
   "mimetype": "text/x-python",
   "name": "python",
   "nbconvert_exporter": "python",
   "pygments_lexer": "ipython3",
   "version": "3.11.2"
  }
 },
 "nbformat": 4,
 "nbformat_minor": 5
}
