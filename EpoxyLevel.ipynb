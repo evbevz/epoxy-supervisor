{
 "cells": [
  {
   "cell_type": "code",
   "execution_count": 10,
   "id": "eb3e7134-3559-4489-b650-d4cbcf7ef649",
   "metadata": {
    "editable": true,
    "scrolled": true,
    "slideshow": {
     "slide_type": ""
    },
    "tags": []
   },
   "outputs": [
    {
     "ename": "OSError",
     "evalue": "Error reading file '/home/nikolay/opencv/epoxy-supervisor/samples/EpoxyLevelCalibrate.annotations.bad.xml': failed to load external entity \"/home/nikolay/opencv/epoxy-supervisor/samples/EpoxyLevelCalibrate.annotations.bad.xml\"",
     "output_type": "error",
     "traceback": [
      "\u001b[0;31m---------------------------------------------------------------------------\u001b[0m",
      "\u001b[0;31mOSError\u001b[0m                                   Traceback (most recent call last)",
      "Cell \u001b[0;32mIn[10], line 68\u001b[0m\n\u001b[1;32m     63\u001b[0m filenameInjectorCam \u001b[38;5;241m=\u001b[39m \u001b[38;5;124m'\u001b[39m\u001b[38;5;124m/home/nikolay/opencv/epoxy-supervisor/datasets/epoxy-level-1774/images/test/000019.png\u001b[39m\u001b[38;5;124m'\u001b[39m\n\u001b[1;32m     64\u001b[0m \u001b[38;5;66;03m#filenameInjectorCam = [ '/home/nikolay/opencv/epoxy-supervisor/datasets/epoxy-level-2640/images/test/00300010.png',\u001b[39;00m\n\u001b[1;32m     65\u001b[0m \u001b[38;5;66;03m#                        '/home/nikolay/opencv/epoxy-supervisor/datasets/epoxy-level-2640/images/test/00302625.png']\u001b[39;00m\n\u001b[1;32m     66\u001b[0m \n\u001b[1;32m     67\u001b[0m \u001b[38;5;66;03m# Калибруем шприц\u001b[39;00m\n\u001b[0;32m---> 68\u001b[0m arrayEpoxyLevel \u001b[38;5;241m=\u001b[39m \u001b[43mCalibrate\u001b[49m\u001b[43m(\u001b[49m\u001b[43mfilenameAnnotation\u001b[49m\u001b[43m)\u001b[49m\n\u001b[1;32m     70\u001b[0m \u001b[38;5;66;03m# Загружаем модель\u001b[39;00m\n\u001b[1;32m     71\u001b[0m model \u001b[38;5;241m=\u001b[39m YOLO(filenameAIModel)  \u001b[38;5;66;03m# load a pretrained model\u001b[39;00m\n",
      "Cell \u001b[0;32mIn[10], line 11\u001b[0m, in \u001b[0;36mCalibrate\u001b[0;34m(fAnnotation)\u001b[0m\n\u001b[1;32m      9\u001b[0m \u001b[38;5;28;01mdef\u001b[39;00m \u001b[38;5;21mCalibrate\u001b[39m (fAnnotation):\n\u001b[1;32m     10\u001b[0m \u001b[38;5;66;03m#!!! Дописать проверку наличия файла с аннотацией\u001b[39;00m\n\u001b[0;32m---> 11\u001b[0m     tree \u001b[38;5;241m=\u001b[39m \u001b[43metree\u001b[49m\u001b[38;5;241;43m.\u001b[39;49m\u001b[43mparse\u001b[49m\u001b[43m(\u001b[49m\u001b[43mfAnnotation\u001b[49m\u001b[43m)\u001b[49m\n\u001b[1;32m     12\u001b[0m     root \u001b[38;5;241m=\u001b[39m tree\u001b[38;5;241m.\u001b[39mgetroot()\n\u001b[1;32m     13\u001b[0m     result \u001b[38;5;241m=\u001b[39m root\u001b[38;5;241m.\u001b[39mxpath(\u001b[38;5;124m'\u001b[39m\u001b[38;5;124m//polyline[@label=\u001b[39m\u001b[38;5;124m\"\u001b[39m\u001b[38;5;124minjector meter\u001b[39m\u001b[38;5;124m\"\u001b[39m\u001b[38;5;124m]\u001b[39m\u001b[38;5;124m'\u001b[39m)\n",
      "File \u001b[0;32msrc/lxml/etree.pyx:3589\u001b[0m, in \u001b[0;36mlxml.etree.parse\u001b[0;34m()\u001b[0m\n",
      "File \u001b[0;32msrc/lxml/parser.pxi:1958\u001b[0m, in \u001b[0;36mlxml.etree._parseDocument\u001b[0;34m()\u001b[0m\n",
      "File \u001b[0;32msrc/lxml/parser.pxi:1984\u001b[0m, in \u001b[0;36mlxml.etree._parseDocumentFromURL\u001b[0;34m()\u001b[0m\n",
      "File \u001b[0;32msrc/lxml/parser.pxi:1887\u001b[0m, in \u001b[0;36mlxml.etree._parseDocFromFile\u001b[0;34m()\u001b[0m\n",
      "File \u001b[0;32msrc/lxml/parser.pxi:1200\u001b[0m, in \u001b[0;36mlxml.etree._BaseParser._parseDocFromFile\u001b[0;34m()\u001b[0m\n",
      "File \u001b[0;32msrc/lxml/parser.pxi:633\u001b[0m, in \u001b[0;36mlxml.etree._ParserContext._handleParseResultDoc\u001b[0;34m()\u001b[0m\n",
      "File \u001b[0;32msrc/lxml/parser.pxi:743\u001b[0m, in \u001b[0;36mlxml.etree._handleParseResult\u001b[0;34m()\u001b[0m\n",
      "File \u001b[0;32msrc/lxml/parser.pxi:670\u001b[0m, in \u001b[0;36mlxml.etree._raiseParseError\u001b[0;34m()\u001b[0m\n",
      "\u001b[0;31mOSError\u001b[0m: Error reading file '/home/nikolay/opencv/epoxy-supervisor/samples/EpoxyLevelCalibrate.annotations.bad.xml': failed to load external entity \"/home/nikolay/opencv/epoxy-supervisor/samples/EpoxyLevelCalibrate.annotations.bad.xml\""
     ]
    }
   ],
   "source": [
    "from lxml import etree\n",
    "#import numpy as np\n",
    "import os.path\n",
    "import torch\n",
    "from ultralytics import YOLO\n",
    "\n",
    "# Загрузка файла анотации в формате \"CVAT for images 1.1\"\n",
    "# Из файла берётся массив точек полилинии с разметкой шкалы деления: 0мл, 1мл, ... 20мл\n",
    "def Calibrate (fAnnotation):\n",
    "#!!! Дописать проверку наличия файла с аннотацией\n",
    "    tree = etree.parse(fAnnotation)\n",
    "    root = tree.getroot()\n",
    "    result = root.xpath('//polyline[@label=\"injector meter\"]')\n",
    "#!!! Дописать проверку в конфиге необходимого тега полилинии, и точек внутри\n",
    "    points = result[0].attrib['points']\n",
    "    # Сложная конструкция, но по сути разбирает стороку на список списков (двумерный список) из двух значений попутно переводя из строковых значений в числовое значние.\n",
    "    list_of_points = list(map(lambda x: list(map(float,x.split(','))), points.split(';')))\n",
    "    # array_of_points = np.array(list_of_points) # Изначально думал работать в NumPy, но предсказания выдают значения в тензорах и потому решил тут тоже использовать тензоры\n",
    "    array_of_points = torch.tensor(list_of_points)\n",
    "    #print (array_of_points)\n",
    "    #return list_of_points\n",
    "    return array_of_points\n",
    "\n",
    "def GetEpoxyLevel (model, arrayEpoxyLevel, file):\n",
    "    # Запускаем предсказание\n",
    "    results = model.predict(source=filenameInjectorCam, verbose=True)  # Предсказание по изображению. Возвращается список результатов (т.к. можно передать список кадров или даже видео)\n",
    "#!!! Дописать проверку на возврат значения неудавшегося предсказания\n",
    "    # Теоретически может быть список результатов, но берём только одно - первое.\n",
    "    keypoints = results[0].keypoints  # Keypoints object for pose outputs\n",
    "    #results[0].show()  # display to screen\n",
    "    #print ('--- Keypoints: ---\\n', keypoints)\n",
    "    \n",
    "    # Вычисляем середину диагоналей эллипса. На будущее стоит просто определять bounding box этого эллипса. Модель уже выдает как раз середину.\n",
    "    # Середина между левой и правой точками большой диагонали эллипса\n",
    "    big_axis_center = (keypoints.xy[0][2] + keypoints.xy[0][3])/2\n",
    "    # Середина между дальней и ближней точками малой диагонали эллипса\n",
    "    small_axis_center = (keypoints.xy[0][4] + keypoints.xy[0][5])/2\n",
    "    # Середина между серединой большой и серединой малой диагоналей. Иногда может быть не равная серединам каждой из них (при ошибках в определении ключевых точек моделью).\n",
    "    ellipse_center = (big_axis_center + small_axis_center)/2\n",
    "    \n",
    "    # Переносим массив точек шприца на то же устройство рассчета где и тензоры модели предсказаний. Если расчёты велись на CUDA, то лучше там и считать всё остальное.\n",
    "    arrayEpoxyLevel = arrayEpoxyLevel.to(ellipse_center.device)\n",
    "    \n",
    "    # Вычисляем ближайшую калиброванную точку к предсказанной точке (середине эллипса)\n",
    "    LengthMin = (keypoints.orig_shape[0]**2+keypoints.orig_shape[1]**2)**0.5 # Нужно просто большое значение, но решил указать максимально возможное расстояние на изображении (диагональ)\n",
    "    LevelMin = 0\n",
    "    for level, kpt in enumerate(arrayEpoxyLevel):\n",
    "        Length = torch.norm(ellipse_center - kpt) # Расстояние между предсказанной точкой и калиброванной точкой\n",
    "        if Length < LengthMin: # Если решим, что хоти чтобы при одинаковом расстоянии показывал значение большего уровня, то тогда поставить знак сравнения <=\n",
    "            LengthMin = Length # Запоминаем минимальное расстояние\n",
    "            LevelMin = level # Запоминаем уровень к точке которого расстояние минимальное\n",
    "        #print (\"Уровень: \", level, \"\\tКалиброванная точка: \", kpt, \"\\tПредсказанная точка: \", ellipse_center, \"\\tРасстояние: \", Length)\n",
    "    #print (\"Предсказанный уровень эпоксидки: \", LevelMin)\n",
    "    return LevelMin\n",
    "    \n",
    "# Калибровочный файл в котором хранятся уровни от 0 до 20мл. В виде координат X,Y центра эллипса поверхности эпоксидки на каждом уровне.\n",
    "filenameAnnotation = '/home/nikolay/opencv/epoxy-supervisor/samples/EpoxyLevelCalibrate.annotations.xml'\n",
    "\n",
    "# Файл весов обученной для распознавания модели\n",
    "filenameAIModel = '/home/nikolay/opencv/epoxy-supervisor/weights/epoxy-supervisor.20241228.best.pt'\n",
    "\n",
    "# Изображение для предсказания уровня эпоксидки\n",
    "filenameInjectorCam = '/home/nikolay/opencv/epoxy-supervisor/datasets/epoxy-level-1774/images/test/000019.png'\n",
    "#filenameInjectorCam = [ '/home/nikolay/opencv/epoxy-supervisor/datasets/epoxy-level-2640/images/test/00300010.png',\n",
    "#                        '/home/nikolay/opencv/epoxy-supervisor/datasets/epoxy-level-2640/images/test/00302625.png']\n",
    "\n",
    "# Калибруем шприц\n",
    "arrayEpoxyLevel = Calibrate(filenameAnnotation)\n",
    "\n",
    "# Загружаем модель\n",
    "model = YOLO(filenameAIModel)  # load a pretrained model\n",
    "\n",
    "# Запрос уровня по изображению\n",
    "GetEpoxyLevel(model, arrayEpoxyLevel, filenameInjectorCam)"
   ]
  },
  {
   "cell_type": "code",
   "execution_count": null,
   "id": "0ee6fd48-e01f-4a65-8cc8-baf243bc3cbf",
   "metadata": {},
   "outputs": [],
   "source": []
  }
 ],
 "metadata": {
  "kernelspec": {
   "display_name": "Python 3 (ipykernel)",
   "language": "python",
   "name": "python3"
  },
  "language_info": {
   "codemirror_mode": {
    "name": "ipython",
    "version": 3
   },
   "file_extension": ".py",
   "mimetype": "text/x-python",
   "name": "python",
   "nbconvert_exporter": "python",
   "pygments_lexer": "ipython3",
   "version": "3.11.2"
  }
 },
 "nbformat": 4,
 "nbformat_minor": 5
}
