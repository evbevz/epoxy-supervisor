{
  "nbformat": 4,
  "nbformat_minor": 0,
  "metadata": {
    "colab": {
      "provenance": [],
      "include_colab_link": true
    },
    "kernelspec": {
      "name": "python3",
      "display_name": "Python 3"
    },
    "language_info": {
      "name": "python"
    }
  },
  "cells": [
    {
      "cell_type": "markdown",
      "metadata": {
        "id": "view-in-github",
        "colab_type": "text"
      },
      "source": [
        "<a href=\"https://colab.research.google.com/github/evbevz/epoxy-supervisor/blob/main/EpoxyLevel.ipynb\" target=\"_parent\"><img src=\"https://colab.research.google.com/assets/colab-badge.svg\" alt=\"Open In Colab\"/></a>"
      ]
    },
    {
      "cell_type": "code",
      "source": [
        "%%capture\n",
        "try:\n",
        "    import google.colab\n",
        "    IS_COLAB_ENV = True\n",
        "except:\n",
        "    IS_COLAB_ENV = False\n",
        "#IS_COLAB_ENV\n",
        "if IS_COLAB_ENV:\n",
        "    !pip install ultralytics\n",
        "    !git clone https://github.com/evbevz/epoxy-supervisor.git\n",
        "    dirBase = '/content/'\n",
        "else:\n",
        "    dirBase = '/home/nikolay/opencv/'"
      ],
      "metadata": {
        "collapsed": true,
        "id": "5aD9FoYBGYgl"
      },
      "execution_count": 1,
      "outputs": []
    },
    {
      "cell_type": "code",
      "execution_count": null,
      "metadata": {
        "id": "t93WCYmAEJJ2"
      },
      "outputs": [],
      "source": [
        "import epoxy-supervisor\n",
        "from lxml import etree\n",
        "import matplotlib.pyplot as plt\n",
        "import os.path\n",
        "import torch\n",
        "from ultralytics import YOLO\n",
        "\n",
        "# Значение уверенности в правильности распознавания, ниже которого не будем считать, что точки определились правильно. Т.е. координаты такой точки будем считать ложными и точку игнорировать.\n",
        "kptConfidence = 0.8 # Сейчас точки если и распознаются, то с уверенностью больше 0.9\n",
        "\n",
        "# Калибровочный файл в котором хранятся уровни от 0 до 20мл. В виде координат X,Y центра эллипса поверхности эпоксидки на каждом уровне.\n",
        "filenameAnnotation = 'epoxy-supervisor/samples/EpoxyLevelCalibrate.annotations.xml'\n",
        "\n",
        "# Файл весов обученной для распознавания модели\n",
        "filenameAIModel = 'epoxy-supervisor/weights/epoxy-supervisor.20241228.best.pt'\n",
        "\n",
        "# Изображение для предсказания уровня эпоксидки\n",
        "#filenameInjectorCam = 'epoxy-supervisor/samples/fail01.png'\n",
        "#filenameInjectorCam = 'epoxy-supervisor/samples/000030.png'\n",
        "filenameInjectorCam = dirBase + 'epoxy-supervisor/samples/10ml.png'\n",
        "\n",
        "# Калибруем шприц\n",
        "arrayEpoxyLevel = Calibrate(filenameAnnotation)\n",
        "\n",
        "# Загружаем модель\n",
        "model = YOLO(filenameAIModel)\n",
        "\n",
        "# Запрос уровня по изображению\n",
        "GetEpoxyLevel(model, arrayEpoxyLevel, filenameInjectorCam)"
      ]
    }
  ]
}