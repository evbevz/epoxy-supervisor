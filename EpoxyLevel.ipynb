{
 "cells": [
  {
   "cell_type": "markdown",
   "metadata": {
    "colab_type": "text",
    "id": "view-in-github"
   },
   "source": [
    "<a href=\"https://colab.research.google.com/github/evbevz/epoxy-supervisor/blob/main/EpoxyLevel.ipynb\" target=\"_parent\"><img src=\"https://colab.research.google.com/assets/colab-badge.svg\" alt=\"Open In Colab\"/></a>"
   ]
  },
  {
   "cell_type": "code",
   "execution_count": 1,
   "metadata": {
    "id": "5aD9FoYBGYgl"
   },
   "outputs": [],
   "source": [
    "%%capture\n",
    "try:\n",
    "    import google.colab\n",
    "    IS_COLAB_ENV = True\n",
    "except:\n",
    "    IS_COLAB_ENV = False\n",
    "if IS_COLAB_ENV:\n",
    "    %pip install ultralytics\n",
    "    !git clone https://github.com/evbevz/epoxy-supervisor.git\n",
    "    dirBase = '/content/'\n",
    "else:\n",
    "    dirBase = '/home/nikolay/opencv/'\n",
    "%cd \"{dirBase}/epoxy-supervisor/\""
   ]
  },
  {
   "cell_type": "code",
   "execution_count": 2,
   "metadata": {
    "colab": {
     "base_uri": "https://localhost:8080/"
    },
    "id": "t93WCYmAEJJ2",
    "outputId": "2e769976-3d22-44aa-c7ac-5c96c5918412"
   },
   "outputs": [
    {
     "name": "stdout",
     "output_type": "stream",
     "text": [
      "Уровень эпоксидки: 20\n",
      "Уровень эпоксидки: 18.825317576527596\n",
      "Уровень эпоксидки: 18.825317576527596\n",
      "Уровень эпоксидки: 9.97814641147852\n",
      "Уровень эпоксидки: 10.517840027809143\n"
     ]
    }
   ],
   "source": [
    "import epoxylib\n",
    "from ultralytics import YOLO\n",
    "\n",
    "# Значение уверенности в правильности распознавания, ниже которого не будем считать, что точки определились правильно. Т.е. координаты такой точки будем считать ложными и точку игнорировать.\n",
    "kptConfidence = 0.8 # Сейчас точки если и распознаются, то с уверенностью больше 0.9\n",
    "\n",
    "# Калибровочный файл в котором хранятся уровни от 0 до 20мл. В виде координат X,Y центра эллипса поверхности эпоксидки на каждом уровне.\n",
    "filenameAnnotation = dirBase + 'epoxy-supervisor/samples/EpoxyLevelCalibrate.annotations.xml'\n",
    "\n",
    "# Файл весов обученной для распознавания модели\n",
    "#filenameAIModel = dirBase + 'epoxy-supervisor/weights/epoxy-supervisor.20241228.best.pt'\n",
    "filenameAIModel = dirBase + 'epoxy-supervisor/weights/es.yolo11s-pose.20250121.epoch400.pt'\n",
    "\n",
    "# Изображение для предсказания уровня эпоксидки\n",
    "#filenameInjectorCam = 'epoxy-supervisor/samples/fail01.png'\n",
    "#filenameInjectorCam = 'epoxy-supervisor/samples/000030.png'\n",
    "filenameInjectorCam20 = dirBase + 'epoxy-supervisor/samples/20ml.png'\n",
    "filenameInjectorCam18 = dirBase + 'epoxy-supervisor/samples/18ml.png'\n",
    "filenameInjectorCam10 = dirBase + 'epoxy-supervisor/samples/10ml.png'\n",
    "filenameInjectorCam0 = dirBase + 'epoxy-supervisor/samples/fail01.png'\n",
    "filenameInjectorCam = dirBase + 'epoxy-supervisor/frames-009/00900040.png'\n",
    "\n",
    "# Калибруем шприц\n",
    "arrayEpoxyLevel = epoxylib.Calibrate(filenameAnnotation)\n",
    "\n",
    "# Загружаем модель\n",
    "model = YOLO(filenameAIModel)\n",
    "\n",
    "# Запрос уровня по изображению\n",
    "level = None\n",
    "level = epoxylib.GetEpoxyLevel(model, arrayEpoxyLevel, filenameInjectorCam20, kptConfidence, level)\n",
    "print (f\"Уровень эпоксидки: {level}\")\n",
    "level = epoxylib.GetEpoxyLevel(model, arrayEpoxyLevel, filenameInjectorCam18, kptConfidence, level)\n",
    "print (f\"Уровень эпоксидки: {level}\")\n",
    "level = epoxylib.GetEpoxyLevel(model, arrayEpoxyLevel, filenameInjectorCam0, kptConfidence, level)\n",
    "print (f\"Уровень эпоксидки: {level}\")\n",
    "level = epoxylib.GetEpoxyLevel(model, arrayEpoxyLevel, filenameInjectorCam10, kptConfidence, level)\n",
    "print (f\"Уровень эпоксидки: {level}\")\n",
    "level = epoxylib.GetEpoxyLevel(model, arrayEpoxyLevel, filenameInjectorCam, kptConfidence, level)\n",
    "print (f\"Уровень эпоксидки: {level}\")\n"
   ]
  }
 ],
 "metadata": {
  "colab": {
   "include_colab_link": true,
   "provenance": []
  },
  "kernelspec": {
   "display_name": "Python 3 (ipykernel)",
   "language": "python",
   "name": "python3"
  },
  "language_info": {
   "codemirror_mode": {
    "name": "ipython",
    "version": 3
   },
   "file_extension": ".py",
   "mimetype": "text/x-python",
   "name": "python",
   "nbconvert_exporter": "python",
   "pygments_lexer": "ipython3",
   "version": "3.11.2"
  }
 },
 "nbformat": 4,
 "nbformat_minor": 4
}
