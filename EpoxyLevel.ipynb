{
 "cells": [
  {
   "cell_type": "markdown",
   "metadata": {
    "colab_type": "text",
    "id": "view-in-github"
   },
   "source": [
    "<a href=\"https://colab.research.google.com/github/evbevz/epoxy-supervisor/blob/main/EpoxyLevel.ipynb\" target=\"_parent\"><img src=\"https://colab.research.google.com/assets/colab-badge.svg\" alt=\"Open In Colab\"/></a>"
   ]
  },
  {
   "cell_type": "code",
   "execution_count": 1,
   "metadata": {
    "id": "5aD9FoYBGYgl"
   },
   "outputs": [],
   "source": [
    "%%capture\n",
    "try:\n",
    "    import google.colab\n",
    "    IS_COLAB_ENV = True\n",
    "except:\n",
    "    IS_COLAB_ENV = False\n",
    "#IS_COLAB_ENV\n",
    "if IS_COLAB_ENV:\n",
    "    !pip install ultralytics\n",
    "    !git clone https://github.com/evbevz/epoxy-supervisor.git\n",
    "    dirBase = '/content/'\n",
    "else:\n",
    "    dirBase = '/home/nikolay/opencv/'"
   ]
  },
  {
   "cell_type": "code",
   "execution_count": 2,
   "metadata": {
    "id": "t93WCYmAEJJ2"
   },
   "outputs": [
    {
     "ename": "NameError",
     "evalue": "name 'epoxylib' is not defined",
     "output_type": "error",
     "traceback": [
      "\u001b[0;31m---------------------------------------------------------------------------\u001b[0m",
      "\u001b[0;31mNameError\u001b[0m                                 Traceback (most recent call last)",
      "Cell \u001b[0;32mIn[2], line 23\u001b[0m\n\u001b[1;32m     20\u001b[0m filenameInjectorCam \u001b[38;5;241m=\u001b[39m dirBase \u001b[38;5;241m+\u001b[39m \u001b[38;5;124m'\u001b[39m\u001b[38;5;124mepoxy-supervisor/samples/10ml.png\u001b[39m\u001b[38;5;124m'\u001b[39m\n\u001b[1;32m     22\u001b[0m \u001b[38;5;66;03m# Калибруем шприц\u001b[39;00m\n\u001b[0;32m---> 23\u001b[0m arrayEpoxyLevel \u001b[38;5;241m=\u001b[39m \u001b[43mepoxylib\u001b[49m\u001b[38;5;241m.\u001b[39mCalibrate(filenameAnnotation)\n\u001b[1;32m     25\u001b[0m \u001b[38;5;66;03m# Загружаем модель\u001b[39;00m\n\u001b[1;32m     26\u001b[0m model \u001b[38;5;241m=\u001b[39m YOLO(filenameAIModel)\n",
      "\u001b[0;31mNameError\u001b[0m: name 'epoxylib' is not defined"
     ]
    }
   ],
   "source": [
    "import epoxylib\n",
    "from lxml import etree\n",
    "import matplotlib.pyplot as plt\n",
    "import os.path\n",
    "import torch\n",
    "from ultralytics import YOLO\n",
    "\n",
    "# Значение уверенности в правильности распознавания, ниже которого не будем считать, что точки определились правильно. Т.е. координаты такой точки будем считать ложными и точку игнорировать.\n",
    "kptConfidence = 0.8 # Сейчас точки если и распознаются, то с уверенностью больше 0.9\n",
    "\n",
    "# Калибровочный файл в котором хранятся уровни от 0 до 20мл. В виде координат X,Y центра эллипса поверхности эпоксидки на каждом уровне.\n",
    "filenameAnnotation = dirBase + 'epoxy-supervisor/samples/EpoxyLevelCalibrate.annotations.xml'\n",
    "\n",
    "# Файл весов обученной для распознавания модели\n",
    "filenameAIModel = dirBase + 'epoxy-supervisor/weights/epoxy-supervisor.20241228.best.pt'\n",
    "\n",
    "# Изображение для предсказания уровня эпоксидки\n",
    "#filenameInjectorCam = 'epoxy-supervisor/samples/fail01.png'\n",
    "#filenameInjectorCam = 'epoxy-supervisor/samples/000030.png'\n",
    "filenameInjectorCam = dirBase + 'epoxy-supervisor/samples/10ml.png'\n",
    "\n",
    "# Калибруем шприц\n",
    "arrayEpoxyLevel = epoxylib.Calibrate(filenameAnnotation)\n",
    "\n",
    "# Загружаем модель\n",
    "model = YOLO(filenameAIModel)\n",
    "\n",
    "# Запрос уровня по изображению\n",
    "epoxylib.GetEpoxyLevel(model, arrayEpoxyLevel, filenameInjectorCam, kptConfidence)"
   ]
  }
 ],
 "metadata": {
  "colab": {
   "include_colab_link": true,
   "provenance": []
  },
  "kernelspec": {
   "display_name": "Python 3 (ipykernel)",
   "language": "python",
   "name": "python3"
  },
  "language_info": {
   "codemirror_mode": {
    "name": "ipython",
    "version": 3
   },
   "file_extension": ".py",
   "mimetype": "text/x-python",
   "name": "python",
   "nbconvert_exporter": "python",
   "pygments_lexer": "ipython3",
   "version": "3.11.2"
  }
 },
 "nbformat": 4,
 "nbformat_minor": 4
}
