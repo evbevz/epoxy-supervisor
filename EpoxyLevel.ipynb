{
  "nbformat": 4,
  "nbformat_minor": 0,
  "metadata": {
    "colab": {
      "provenance": [],
      "authorship_tag": "ABX9TyONevxjgDh/ntlxKZCWlK1U",
      "include_colab_link": true
    },
    "kernelspec": {
      "name": "python3",
      "display_name": "Python 3"
    },
    "language_info": {
      "name": "python"
    }
  },
  "cells": [
    {
      "cell_type": "markdown",
      "metadata": {
        "id": "view-in-github",
        "colab_type": "text"
      },
      "source": [
        "<a href=\"https://colab.research.google.com/github/evbevz/epoxy-supervisor/blob/main/EpoxyLevel.ipynb\" target=\"_parent\"><img src=\"https://colab.research.google.com/assets/colab-badge.svg\" alt=\"Open In Colab\"/></a>"
      ]
    },
    {
      "cell_type": "code",
      "source": [
        "%%capture\n",
        "!pip install ultralytics"
      ],
      "metadata": {
        "collapsed": true,
        "id": "5aD9FoYBGYgl"
      },
      "execution_count": 5,
      "outputs": []
    },
    {
      "cell_type": "code",
      "source": [
        "!git clone https://github.com/evbevz/epoxy-supervisor.git"
      ],
      "metadata": {
        "colab": {
          "base_uri": "https://localhost:8080/"
        },
        "collapsed": true,
        "id": "bmOJTPfoPBmU",
        "outputId": "2c5c8eb9-c5aa-4e3f-856d-6e38d4d16b46"
      },
      "execution_count": 1,
      "outputs": [
        {
          "output_type": "stream",
          "name": "stdout",
          "text": [
            "Cloning into 'epoxy-supervisor'...\n",
            "remote: Enumerating objects: 343, done.\u001b[K\n",
            "remote: Counting objects: 100% (110/110), done.\u001b[K\n",
            "remote: Compressing objects: 100% (46/46), done.\u001b[K\n",
            "remote: Total 343 (delta 95), reused 72 (delta 64), pack-reused 233 (from 2)\u001b[K\n",
            "Receiving objects: 100% (343/343), 194.80 MiB | 20.47 MiB/s, done.\n",
            "Resolving deltas: 100% (157/157), done.\n"
          ]
        }
      ]
    },
    {
      "cell_type": "code",
      "execution_count": 20,
      "metadata": {
        "id": "t93WCYmAEJJ2",
        "colab": {
          "base_uri": "https://localhost:8080/",
          "height": 971
        },
        "outputId": "a6babc92-6f1a-4fe7-96b6-24bb28472227"
      },
      "outputs": [
        {
          "output_type": "stream",
          "name": "stdout",
          "text": [
            "Lvl:  0 \tCalib pt:  tensor([ 926.0000, 1104.2000]) \tPredict pt:  tensor([1043.3051,  707.5676]) \tLength:  tensor(413.6154)\n",
            "Lvl:  1 \tCalib pt:  tensor([ 937.5000, 1069.4000]) \tPredict pt:  tensor([1043.3051,  707.5676]) \tLength:  tensor(376.9846)\n",
            "Lvl:  2 \tCalib pt:  tensor([ 948.5000, 1034.5000]) \tPredict pt:  tensor([1043.3051,  707.5676]) \tLength:  tensor(340.4009)\n",
            "Lvl:  3 \tCalib pt:  tensor([960.4000, 998.9000]) \tPredict pt:  tensor([1043.3051,  707.5676]) \tLength:  tensor(302.8990)\n",
            "Lvl:  4 \tCalib pt:  tensor([971.2000, 964.0000]) \tPredict pt:  tensor([1043.3051,  707.5676]) \tLength:  tensor(266.3770)\n",
            "Lvl:  5 \tCalib pt:  tensor([983.4000, 927.5000]) \tPredict pt:  tensor([1043.3051,  707.5676]) \tLength:  tensor(227.9449)\n",
            "Lvl:  6 \tCalib pt:  tensor([993.5000, 894.6000]) \tPredict pt:  tensor([1043.3051,  707.5676]) \tLength:  tensor(193.5501)\n",
            "Lvl:  7 \tCalib pt:  tensor([1005.1000,  858.3000]) \tPredict pt:  tensor([1043.3051,  707.5676]) \tLength:  tensor(155.4988)\n",
            "Lvl:  8 \tCalib pt:  tensor([1014.8000,  824.5000]) \tPredict pt:  tensor([1043.3051,  707.5676]) \tLength:  tensor(120.3566)\n",
            "Lvl:  9 \tCalib pt:  tensor([1031.1000,  767.4000]) \tPredict pt:  tensor([1043.3051,  707.5676]) \tLength:  tensor(61.0646)\n",
            "Lvl:  10 \tCalib pt:  tensor([1045.7000,  705.2000]) \tPredict pt:  tensor([1043.3051,  707.5676]) \tLength:  tensor(3.3677)\n",
            "Lvl:  11 \tCalib pt:  tensor([1056.7000,  645.1000]) \tPredict pt:  tensor([1043.3051,  707.5676]) \tLength:  tensor(63.8876)\n",
            "Lvl:  12 \tCalib pt:  tensor([1063.0000,  588.5000]) \tPredict pt:  tensor([1043.3051,  707.5676]) \tLength:  tensor(120.6855)\n",
            "Lvl:  13 \tCalib pt:  tensor([1063.8000,  527.1000]) \tPredict pt:  tensor([1043.3051,  707.5676]) \tLength:  tensor(181.6277)\n",
            "Lvl:  14 \tCalib pt:  tensor([1062.5000,  476.6000]) \tPredict pt:  tensor([1043.3051,  707.5676]) \tLength:  tensor(231.7639)\n",
            "Lvl:  15 \tCalib pt:  tensor([1057.6000,  422.2000]) \tPredict pt:  tensor([1043.3051,  707.5676]) \tLength:  tensor(285.7254)\n",
            "Lvl:  16 \tCalib pt:  tensor([1052.1000,  371.0000]) \tPredict pt:  tensor([1043.3051,  707.5676]) \tLength:  tensor(336.6825)\n",
            "Lvl:  17 \tCalib pt:  tensor([1045.9000,  318.5000]) \tPredict pt:  tensor([1043.3051,  707.5676]) \tLength:  tensor(389.0763)\n",
            "Lvl:  18 \tCalib pt:  tensor([1039.8000,  266.8000]) \tPredict pt:  tensor([1043.3051,  707.5676]) \tLength:  tensor(440.7816)\n",
            "Lvl:  19 \tCalib pt:  tensor([1033.0000,  214.6000]) \tPredict pt:  tensor([1043.3051,  707.5676]) \tLength:  tensor(493.0753)\n",
            "Lvl:  20 \tCalib pt:  tensor([1026.8000,  159.8000]) \tPredict pt:  tensor([1043.3051,  707.5676]) \tLength:  tensor(548.0162)\n",
            "Предсказанный уровень эпоксидки:  10\n",
            "vSrc:\t tensor([-2.3949,  2.3676]) \tL2:  tensor(3.3677)\n",
            "vNext:\t tensor([ 11.0000, -60.1000]) \tL2:  tensor(61.0984)\n",
            "vPrev:\t tensor([-14.6000,  62.2000]) \tL2:  tensor(63.8905)\n",
            "Косинус угла к следующему вектору: tensor(-0.8196)\n",
            "Косинус угла к предыдущему вектору: tensor(-0.8469)\n",
            "Длина проекции:  tensor(-2.7601)\n",
            "Длина проекции в мл:  -0.04517464339733124\n"
          ]
        },
        {
          "output_type": "display_data",
          "data": {
            "text/plain": [
              "<Figure size 640x480 with 1 Axes>"
            ],
            "image/png": "[encoded data removed]"
          },
          "metadata": {}
        },
        {
          "output_type": "execute_result",
          "data": {
            "text/plain": [
              "9.954825356602669"
            ]
          },
          "metadata": {},
          "execution_count": 20
        }
      ],
      "source": [
        "from lxml import etree\n",
        "import matplotlib.pyplot as plt\n",
        "import os.path\n",
        "import torch\n",
        "from ultralytics import YOLO\n",
        "\n",
        "# Косинусное сходство (Косинус угла между векторами)\n",
        "def cos_sim (v1, v2):\n",
        "    cosine_similarity = torch.dot(v1, v2) / (torch.linalg.vector_norm(v1) * torch.linalg.vector_norm(v2))\n",
        "    return cosine_similarity\n",
        "\n",
        "# Проекция вектора на вектор\n",
        "def pr_vec (v1, v2):\n",
        "    pr_v1_on_v2 = torch.dot(v1, v2) / torch.linalg.vector_norm(v2)\n",
        "    return pr_v1_on_v2\n",
        "\n",
        "# Загрузка файла анотации в формате \"CVAT for images 1.1\"\n",
        "# Из файла берётся массив точек полилинии с разметкой шкалы деления: 0мл, 1мл, ... 20мл\n",
        "def Calibrate (fAnnotation):\n",
        "    tree = etree.parse(fAnnotation)\n",
        "    root = tree.getroot()\n",
        "    result = root.xpath('//polyline[@label=\"injector meter\"]')\n",
        "    if not(result):\n",
        "        raise Exception(\"Не удалось найти polyline с точками уровней инжектора в файле: \", fAnnotation)\n",
        "    points = result[0].attrib['points']\n",
        "    # Сложная конструкция, но по сути разбирает стороку на список списков (двумерный список) из двух значений попутно переводя из строковых значений в числовое значние.\n",
        "    list_of_points = list(map(lambda x: list(map(float,x.split(','))), points.split(';')))\n",
        "    array_of_points = torch.tensor(list_of_points)\n",
        "    #print (\"Массив точек шкалы инжектора:\\n\", array_of_points)\n",
        "    return array_of_points\n",
        "\n",
        "# Получение центра эллипса по точкам: левой и правой большой оси, дальней и ближней малой оси.\n",
        "# Вычисляем через середину диагоналей эллипса. На будущее стоит просто определять bounding box этого эллипса. Модель будет выдавать уже как раз середину.\n",
        "def GetEllipseCenter (kpt):\n",
        "    #print (\"Левая точка большой оси:\\t\", kpt[0])\n",
        "    #print (\"Правая точка большой оси:\\t\", kpt[1])\n",
        "    #print (\"Дальняя точка малой оси:\\t\", kpt[2])\n",
        "    #print (\"Ближняя точка малой оси:\\t\", kpt[3])\n",
        "\n",
        "    # Проверяем уверенность в определении точки. Если показатель меньше заданного значения, то точку игнорируем.\n",
        "    # Середина между левой и правой точками большой диагонали эллипса\n",
        "    if (kpt[0][2] > kptConfidence) and (kpt[1][2] > kptConfidence):\n",
        "        big_axis_center = (kpt[0][0:2:] + kpt[1][0:2:]) / 2\n",
        "    else:\n",
        "        big_axis_center = None\n",
        "    # Середина между дальней и ближней точками малой диагонали эллипса\n",
        "    if (kpt[2][2] > kptConfidence) and (kpt[3][2] > kptConfidence):\n",
        "        small_axis_center = (kpt[2][0:2:] + kpt[3][0:2:]) / 2\n",
        "    else:\n",
        "        small_axis_center = None\n",
        "    # Середина между серединой большой и серединой малой диагоналей. Иногда может быть не равная серединам каждой из них (при ошибках в определении ключевых точек моделью).\n",
        "    if (big_axis_center is not None) and (small_axis_center is not None):\n",
        "        ellipse_center = (big_axis_center + small_axis_center) / 2\n",
        "    elif (big_axis_center is not None) and (small_axis_center is None):\n",
        "        ellipse_center = big_axis_center\n",
        "    elif (big_axis_center is None) and (small_axis_center is not None):\n",
        "        ellipse_center = small_axis_center\n",
        "    else:\n",
        "        ellipse_center = None\n",
        "    #print (\"BAC: \", big_axis_center, \"SAC: \", small_axis_center, \"ELC:\", ellipse_center)\n",
        "    return ellipse_center\n",
        "\n",
        "def GetEpoxyLevel (model, arrayEpoxyLevel, file):\n",
        "    # Запускаем предсказание\n",
        "    results = model.predict(source=filenameInjectorCam, verbose=False)  # Предсказание по изображению. Возвращается список результатов (т.к. можно передать список кадров или даже видео)\n",
        "    # Теоретически может быть список результатов, но берём только одно - первое.\n",
        "    keypoints = results[0].keypoints  # Keypoints object for pose outputs\n",
        "    #results[0].show()  # display to screen\n",
        "    #print ('--- Keypoints: ---\\n', keypoints)\n",
        "\n",
        "    # Высчитываем центр эллипса\n",
        "    # Передаем в параметре 4 точки диагоналей эллипса в виде тензора 4x3 [[x1,y2,confidence1],[]...]\n",
        "    ellipse_center = GetEllipseCenter(keypoints.data[0][2:6:])\n",
        "    #ellipse_center = GetEllipseCenter(torch.tensor([[8.2964e+02, 1.1205e+03, 9.8753e-01],\n",
        "    #    [1.0747e+03, 1.1256e+03, 9.1424e-01],\n",
        "    #    [9.5690e+02, 1.0506e+03, 9.9983e-01],\n",
        "    #    [0.0000e+00, 0.0000e+00, 3.4417e-01]], device='cuda:0'))\n",
        "\n",
        "    if ellipse_center is not None:\n",
        "        # Переносим массив точек шприца на то же устройство рассчета где и тензоры модели предсказаний. Если расчёты велись на CUDA, то лучше там и считать всё остальное.\n",
        "        arrayEpoxyLevel = arrayEpoxyLevel.to(ellipse_center.device)\n",
        "\n",
        "        # Вычисляем ближайшую калиброванную точку к предсказанной точке (середине эллипса)\n",
        "        LengthMin = (keypoints.orig_shape[0] ** 2 + keypoints.orig_shape[1] ** 2) ** 0.5 # Нужно просто большое значение, но решил указать максимально возможное расстояние на изображении (диагональ)\n",
        "        LevelMin = 0\n",
        "        for level, kpt in enumerate(arrayEpoxyLevel):\n",
        "            Length = torch.norm(ellipse_center - kpt) # Расстояние между предсказанной точкой и калиброванной точкой уровня\n",
        "            if Length < LengthMin:                    # Если решим, что хоти чтобы при одинаковом расстоянии показывал значение большего уровня, то тогда поставить знак сравнения <=\n",
        "                LengthMin = Length                    # Запоминаем минимальное расстояние\n",
        "                LevelMin = level                      # Запоминаем уровень к точке которого расстояние минимальное\n",
        "            print (\"Lvl: \", level, \"\\tCalib pt: \", kpt, \"\\tPredict pt: \", ellipse_center, \"\\tLength: \", Length)\n",
        "        print (\"Предсказанный уровень эпоксидки: \", LevelMin)\n",
        "\n",
        "        # Дорасчёт дробной части уровня.\n",
        "        vSrc = ellipse_center - arrayEpoxyLevel[LevelMin]\n",
        "        vNext = arrayEpoxyLevel[LevelMin+1] - arrayEpoxyLevel[LevelMin]\n",
        "        vPrev = arrayEpoxyLevel[LevelMin-1] - arrayEpoxyLevel[LevelMin]\n",
        "        print (\"vSrc:\\t\", vSrc, \"\\tL2: \", torch.linalg.vector_norm(vSrc))\n",
        "        print (\"vNext:\\t\", vNext, \"\\tL2: \", torch.linalg.vector_norm(vNext))\n",
        "        print (\"vPrev:\\t\", vPrev, \"\\tL2: \", torch.linalg.vector_norm(vPrev))\n",
        "\n",
        "        cos_next = cos_sim(vSrc,vNext)\n",
        "        print ('Косинус угла к следующему вектору:', cos_next)\n",
        "        cos_prev = cos_sim(vSrc,-vPrev)\n",
        "        print ('Косинус угла к предыдущему вектору:', cos_prev)\n",
        "        if cos_next > cos_prev:\n",
        "            pr = pr_vec(vSrc, vNext)\n",
        "            pr_ml = float (1 / torch.linalg.vector_norm(vNext) * pr)\n",
        "        elif cos_next < cos_prev:\n",
        "            pr = pr_vec(vSrc, vPrev)\n",
        "            pr_ml = float (1 / torch.linalg.vector_norm(vPrev) * pr)\n",
        "        else:\n",
        "            pr = 0\n",
        "            pr_ml = 0\n",
        "        print (\"Длина проекции: \", pr)\n",
        "        print (\"Длина проекции в мл: \", pr_ml)\n",
        "\n",
        "        # Рисуем район дорасчетных векторов\n",
        "        arrowprops = {'arrowstyle': '<|-'}\n",
        "        plt.annotate('',xy=arrayEpoxyLevel[LevelMin],xytext=ellipse_center,arrowprops=arrowprops|{'color': '#ff0000'})\n",
        "        plt.annotate('',xy=arrayEpoxyLevel[LevelMin],xytext=arrayEpoxyLevel[LevelMin-1],arrowprops=arrowprops|{'color': '#00ff00'})\n",
        "        plt.annotate('',xy=arrayEpoxyLevel[LevelMin],xytext=arrayEpoxyLevel[LevelMin+1],arrowprops=arrowprops|{'color': '#00ff00'})\n",
        "\n",
        "        plt.xlim(arrayEpoxyLevel[LevelMin-1][0:1:], arrayEpoxyLevel[LevelMin+1][0:1:])\n",
        "        plt.ylim(arrayEpoxyLevel[LevelMin-1][1:2:], arrayEpoxyLevel[LevelMin+1][1:2:])\n",
        "        plt.grid(linewidth=0.5)\n",
        "        plt.show()\n",
        "\n",
        "        return LevelMin + pr_ml\n",
        "    else:\n",
        "        return None\n",
        "\n",
        "# Значение уверенности в правильности распознавания, ниже которого не будем считать, что точки определились правильно. Т.е. координаты такой точки будем считать ложными и точку игнорировать.\n",
        "kptConfidence = 0.8 # Сейчас точки если и распознаются, то с уверенностью больше 0.9\n",
        "\n",
        "# Калибровочный файл в котором хранятся уровни от 0 до 20мл. В виде координат X,Y центра эллипса поверхности эпоксидки на каждом уровне.\n",
        "filenameAnnotation = 'epoxy-supervisor/samples/EpoxyLevelCalibrate.annotations.xml'\n",
        "\n",
        "# Файл весов обученной для распознавания модели\n",
        "filenameAIModel = 'epoxy-supervisor/weights/epoxy-supervisor.20241228.best.pt'\n",
        "\n",
        "# Изображение для предсказания уровня эпоксидки\n",
        "#filenameInjectorCam = 'epoxy-supervisor/samples/fail01.png'\n",
        "filenameInjectorCam = 'epoxy-supervisor/samples/000030.png'\n",
        "\n",
        "# Калибруем шприц\n",
        "arrayEpoxyLevel = Calibrate(filenameAnnotation)\n",
        "\n",
        "# Загружаем модель\n",
        "model = YOLO(filenameAIModel)\n",
        "\n",
        "# Запрос уровня по изображению\n",
        "GetEpoxyLevel(model, arrayEpoxyLevel, filenameInjectorCam)"
      ]
    }
  ]
}